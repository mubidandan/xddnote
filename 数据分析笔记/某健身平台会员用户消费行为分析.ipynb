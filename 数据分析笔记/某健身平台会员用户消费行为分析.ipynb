{
 "cells": [
  {
   "cell_type": "markdown",
   "metadata": {},
   "source": [
    "# 数据集简介"
   ]
  },
  {
   "cell_type": "markdown",
   "metadata": {},
   "source": [
    "数据集来源于某健身房2019年3月至2020年2月会员消费购买行为，数据集一共包含四个字段：用户ID，购买日期，购买数量和购买金额。属于非常典型的消费行为数据集。"
   ]
  },
  {
   "cell_type": "markdown",
   "metadata": {},
   "source": [
    "# 数据导入"
   ]
  },
  {
   "cell_type": "code",
   "execution_count": 1,
   "metadata": {},
   "outputs": [],
   "source": [
    "import pandas as pd\n",
    "import numpy as np\n",
    "import matplotlib.pyplot as plt#导入库及所需的包\n",
    "from datetime import datetime\n",
    "plt.rc('font', family='SimHei', size=18)# 显示中文标签\n",
    "plt.style.use ('ggplot')#设定绘图风格"
   ]
  },
  {
   "cell_type": "code",
   "execution_count": 2,
   "metadata": {},
   "outputs": [
    {
     "data": {
      "text/html": [
       "<div>\n",
       "<style scoped>\n",
       "    .dataframe tbody tr th:only-of-type {\n",
       "        vertical-align: middle;\n",
       "    }\n",
       "\n",
       "    .dataframe tbody tr th {\n",
       "        vertical-align: top;\n",
       "    }\n",
       "\n",
       "    .dataframe thead th {\n",
       "        text-align: right;\n",
       "    }\n",
       "</style>\n",
       "<table border=\"1\" class=\"dataframe\">\n",
       "  <thead>\n",
       "    <tr style=\"text-align: right;\">\n",
       "      <th></th>\n",
       "      <th>user_id</th>\n",
       "      <th>order_dt</th>\n",
       "      <th>order_products</th>\n",
       "      <th>order_amount</th>\n",
       "    </tr>\n",
       "  </thead>\n",
       "  <tbody>\n",
       "    <tr>\n",
       "      <th>0</th>\n",
       "      <td>vs30033073</td>\n",
       "      <td>2020-01-17</td>\n",
       "      <td>1</td>\n",
       "      <td>20</td>\n",
       "    </tr>\n",
       "    <tr>\n",
       "      <th>1</th>\n",
       "      <td>vs30026748</td>\n",
       "      <td>2019-12-04</td>\n",
       "      <td>1</td>\n",
       "      <td>20</td>\n",
       "    </tr>\n",
       "    <tr>\n",
       "      <th>2</th>\n",
       "      <td>vs10000716</td>\n",
       "      <td>2019-07-05</td>\n",
       "      <td>1</td>\n",
       "      <td>20</td>\n",
       "    </tr>\n",
       "    <tr>\n",
       "      <th>3</th>\n",
       "      <td>vs30032785</td>\n",
       "      <td>2019-08-21</td>\n",
       "      <td>2</td>\n",
       "      <td>0</td>\n",
       "    </tr>\n",
       "    <tr>\n",
       "      <th>4</th>\n",
       "      <td>vs10000716</td>\n",
       "      <td>2019-10-24</td>\n",
       "      <td>1</td>\n",
       "      <td>20</td>\n",
       "    </tr>\n",
       "    <tr>\n",
       "      <th>5</th>\n",
       "      <td>vs30033073</td>\n",
       "      <td>2019-11-29</td>\n",
       "      <td>2</td>\n",
       "      <td>20</td>\n",
       "    </tr>\n",
       "    <tr>\n",
       "      <th>6</th>\n",
       "      <td>vs10000621</td>\n",
       "      <td>2019-07-19</td>\n",
       "      <td>2</td>\n",
       "      <td>20</td>\n",
       "    </tr>\n",
       "    <tr>\n",
       "      <th>7</th>\n",
       "      <td>vs30029475</td>\n",
       "      <td>2019-05-17</td>\n",
       "      <td>1</td>\n",
       "      <td>20</td>\n",
       "    </tr>\n",
       "    <tr>\n",
       "      <th>8</th>\n",
       "      <td>vs30030664</td>\n",
       "      <td>2019-11-11</td>\n",
       "      <td>1</td>\n",
       "      <td>20</td>\n",
       "    </tr>\n",
       "    <tr>\n",
       "      <th>9</th>\n",
       "      <td>vs10000773</td>\n",
       "      <td>2019-11-25</td>\n",
       "      <td>1</td>\n",
       "      <td>20</td>\n",
       "    </tr>\n",
       "  </tbody>\n",
       "</table>\n",
       "</div>"
      ],
      "text/plain": [
       "      user_id   order_dt  order_products  order_amount\n",
       "0  vs30033073 2020-01-17               1            20\n",
       "1  vs30026748 2019-12-04               1            20\n",
       "2  vs10000716 2019-07-05               1            20\n",
       "3  vs30032785 2019-08-21               2             0\n",
       "4  vs10000716 2019-10-24               1            20\n",
       "5  vs30033073 2019-11-29               2            20\n",
       "6  vs10000621 2019-07-19               2            20\n",
       "7  vs30029475 2019-05-17               1            20\n",
       "8  vs30030664 2019-11-11               1            20\n",
       "9  vs10000773 2019-11-25               1            20"
      ]
     },
     "execution_count": 2,
     "metadata": {},
     "output_type": "execute_result"
    }
   ],
   "source": [
    "df=pd.read_excel(r\"E:\\学习\\cuscapi.xls\", order_dt=['date'])# 数据加载\n",
    "df.head(10)"
   ]
  },
  {
   "cell_type": "code",
   "execution_count": 3,
   "metadata": {},
   "outputs": [
    {
     "data": {
      "text/html": [
       "<div>\n",
       "<style scoped>\n",
       "    .dataframe tbody tr th:only-of-type {\n",
       "        vertical-align: middle;\n",
       "    }\n",
       "\n",
       "    .dataframe tbody tr th {\n",
       "        vertical-align: top;\n",
       "    }\n",
       "\n",
       "    .dataframe thead th {\n",
       "        text-align: right;\n",
       "    }\n",
       "</style>\n",
       "<table border=\"1\" class=\"dataframe\">\n",
       "  <thead>\n",
       "    <tr style=\"text-align: right;\">\n",
       "      <th></th>\n",
       "      <th>order_products</th>\n",
       "      <th>order_amount</th>\n",
       "    </tr>\n",
       "  </thead>\n",
       "  <tbody>\n",
       "    <tr>\n",
       "      <th>count</th>\n",
       "      <td>2013.00</td>\n",
       "      <td>2013.00</td>\n",
       "    </tr>\n",
       "    <tr>\n",
       "      <th>mean</th>\n",
       "      <td>1.47</td>\n",
       "      <td>22.90</td>\n",
       "    </tr>\n",
       "    <tr>\n",
       "      <th>std</th>\n",
       "      <td>0.91</td>\n",
       "      <td>94.94</td>\n",
       "    </tr>\n",
       "    <tr>\n",
       "      <th>min</th>\n",
       "      <td>1.00</td>\n",
       "      <td>0.00</td>\n",
       "    </tr>\n",
       "    <tr>\n",
       "      <th>25%</th>\n",
       "      <td>1.00</td>\n",
       "      <td>20.00</td>\n",
       "    </tr>\n",
       "    <tr>\n",
       "      <th>50%</th>\n",
       "      <td>1.00</td>\n",
       "      <td>20.00</td>\n",
       "    </tr>\n",
       "    <tr>\n",
       "      <th>75%</th>\n",
       "      <td>2.00</td>\n",
       "      <td>20.00</td>\n",
       "    </tr>\n",
       "    <tr>\n",
       "      <th>max</th>\n",
       "      <td>12.00</td>\n",
       "      <td>2650.00</td>\n",
       "    </tr>\n",
       "  </tbody>\n",
       "</table>\n",
       "</div>"
      ],
      "text/plain": [
       "       order_products  order_amount\n",
       "count         2013.00       2013.00\n",
       "mean             1.47         22.90\n",
       "std              0.91         94.94\n",
       "min              1.00          0.00\n",
       "25%              1.00         20.00\n",
       "50%              1.00         20.00\n",
       "75%              2.00         20.00\n",
       "max             12.00       2650.00"
      ]
     },
     "execution_count": 3,
     "metadata": {},
     "output_type": "execute_result"
    }
   ],
   "source": [
    "pd.set_option('display.float_format', lambda x: '%.2f' % x)\n",
    "df.describe()"
   ]
  },
  {
   "cell_type": "markdown",
   "metadata": {},
   "source": [
    "分析：\n",
    "1.会员用户平均每笔订单购买1.5个商品，标准差为在0.9，波性较小 。中位数在1个商品，75分位数在2个产品，说明绝大订单的购买量都不多。\n",
    "2.平均每笔订单消费金额为22.9元，标准差约为95，中位数在20，平均数大于中位数。大多数会员消费金额集中在小额，小部分用户贡献大额消费，符合消费类数据的二八分布。\n",
    "3.一般而言，消费类数据的分布都是长尾分布。"
   ]
  },
  {
   "cell_type": "code",
   "execution_count": 4,
   "metadata": {},
   "outputs": [
    {
     "data": {
      "text/html": [
       "<div>\n",
       "<style scoped>\n",
       "    .dataframe tbody tr th:only-of-type {\n",
       "        vertical-align: middle;\n",
       "    }\n",
       "\n",
       "    .dataframe tbody tr th {\n",
       "        vertical-align: top;\n",
       "    }\n",
       "\n",
       "    .dataframe thead th {\n",
       "        text-align: right;\n",
       "    }\n",
       "</style>\n",
       "<table border=\"1\" class=\"dataframe\">\n",
       "  <thead>\n",
       "    <tr style=\"text-align: right;\">\n",
       "      <th></th>\n",
       "      <th>order_products</th>\n",
       "      <th>order_amount</th>\n",
       "    </tr>\n",
       "    <tr>\n",
       "      <th>user_id</th>\n",
       "      <th></th>\n",
       "      <th></th>\n",
       "    </tr>\n",
       "  </thead>\n",
       "  <tbody>\n",
       "    <tr>\n",
       "      <th>vs10000005</th>\n",
       "      <td>9</td>\n",
       "      <td>189</td>\n",
       "    </tr>\n",
       "    <tr>\n",
       "      <th>vs10000621</th>\n",
       "      <td>214</td>\n",
       "      <td>5704</td>\n",
       "    </tr>\n",
       "    <tr>\n",
       "      <th>vs10000627</th>\n",
       "      <td>2</td>\n",
       "      <td>0</td>\n",
       "    </tr>\n",
       "    <tr>\n",
       "      <th>vs10000716</th>\n",
       "      <td>250</td>\n",
       "      <td>2616</td>\n",
       "    </tr>\n",
       "    <tr>\n",
       "      <th>vs10000743</th>\n",
       "      <td>1</td>\n",
       "      <td>20</td>\n",
       "    </tr>\n",
       "    <tr>\n",
       "      <th>vs10000757</th>\n",
       "      <td>75</td>\n",
       "      <td>1104</td>\n",
       "    </tr>\n",
       "    <tr>\n",
       "      <th>vs10000773</th>\n",
       "      <td>23</td>\n",
       "      <td>460</td>\n",
       "    </tr>\n",
       "    <tr>\n",
       "      <th>vs10000775</th>\n",
       "      <td>8</td>\n",
       "      <td>2730</td>\n",
       "    </tr>\n",
       "    <tr>\n",
       "      <th>vs10000788</th>\n",
       "      <td>7</td>\n",
       "      <td>144</td>\n",
       "    </tr>\n",
       "    <tr>\n",
       "      <th>vs10000794</th>\n",
       "      <td>1</td>\n",
       "      <td>0</td>\n",
       "    </tr>\n",
       "  </tbody>\n",
       "</table>\n",
       "</div>"
      ],
      "text/plain": [
       "            order_products  order_amount\n",
       "user_id                                 \n",
       "vs10000005               9           189\n",
       "vs10000621             214          5704\n",
       "vs10000627               2             0\n",
       "vs10000716             250          2616\n",
       "vs10000743               1            20\n",
       "vs10000757              75          1104\n",
       "vs10000773              23           460\n",
       "vs10000775               8          2730\n",
       "vs10000788               7           144\n",
       "vs10000794               1             0"
      ]
     },
     "execution_count": 4,
     "metadata": {},
     "output_type": "execute_result"
    }
   ],
   "source": [
    "user_group=df.groupby('user_id').sum()\n",
    "user_group.head(10)"
   ]
  },
  {
   "cell_type": "code",
   "execution_count": 5,
   "metadata": {},
   "outputs": [
    {
     "data": {
      "text/html": [
       "<div>\n",
       "<style scoped>\n",
       "    .dataframe tbody tr th:only-of-type {\n",
       "        vertical-align: middle;\n",
       "    }\n",
       "\n",
       "    .dataframe tbody tr th {\n",
       "        vertical-align: top;\n",
       "    }\n",
       "\n",
       "    .dataframe thead th {\n",
       "        text-align: right;\n",
       "    }\n",
       "</style>\n",
       "<table border=\"1\" class=\"dataframe\">\n",
       "  <thead>\n",
       "    <tr style=\"text-align: right;\">\n",
       "      <th></th>\n",
       "      <th>order_products</th>\n",
       "      <th>order_amount</th>\n",
       "    </tr>\n",
       "  </thead>\n",
       "  <tbody>\n",
       "    <tr>\n",
       "      <th>count</th>\n",
       "      <td>247.00</td>\n",
       "      <td>247.00</td>\n",
       "    </tr>\n",
       "    <tr>\n",
       "      <th>mean</th>\n",
       "      <td>11.97</td>\n",
       "      <td>186.59</td>\n",
       "    </tr>\n",
       "    <tr>\n",
       "      <th>std</th>\n",
       "      <td>36.70</td>\n",
       "      <td>641.12</td>\n",
       "    </tr>\n",
       "    <tr>\n",
       "      <th>min</th>\n",
       "      <td>1.00</td>\n",
       "      <td>0.00</td>\n",
       "    </tr>\n",
       "    <tr>\n",
       "      <th>25%</th>\n",
       "      <td>2.00</td>\n",
       "      <td>0.00</td>\n",
       "    </tr>\n",
       "    <tr>\n",
       "      <th>50%</th>\n",
       "      <td>2.00</td>\n",
       "      <td>0.00</td>\n",
       "    </tr>\n",
       "    <tr>\n",
       "      <th>75%</th>\n",
       "      <td>3.00</td>\n",
       "      <td>66.00</td>\n",
       "    </tr>\n",
       "    <tr>\n",
       "      <th>max</th>\n",
       "      <td>277.00</td>\n",
       "      <td>5704.00</td>\n",
       "    </tr>\n",
       "  </tbody>\n",
       "</table>\n",
       "</div>"
      ],
      "text/plain": [
       "       order_products  order_amount\n",
       "count          247.00        247.00\n",
       "mean            11.97        186.59\n",
       "std             36.70        641.12\n",
       "min              1.00          0.00\n",
       "25%              2.00          0.00\n",
       "50%              2.00          0.00\n",
       "75%              3.00         66.00\n",
       "max            277.00       5704.00"
      ]
     },
     "execution_count": 5,
     "metadata": {},
     "output_type": "execute_result"
    }
   ],
   "source": [
    "user_group.describe()"
   ]
  },
  {
   "cell_type": "markdown",
   "metadata": {},
   "source": [
    "分析：会员用户平均购买约12个商品，最多的购买了277个商品。会员用户平均消费金额约为187元，标准差为641，中位数在0，结合分位数和最大值看，属于正偏分布，存在小部分会员购买大量商品的高消费情况。"
   ]
  },
  {
   "cell_type": "code",
   "execution_count": 6,
   "metadata": {},
   "outputs": [
    {
     "name": "stdout",
     "output_type": "stream",
     "text": [
      "<class 'pandas.core.frame.DataFrame'>\n",
      "RangeIndex: 2013 entries, 0 to 2012\n",
      "Data columns (total 4 columns):\n",
      " #   Column          Non-Null Count  Dtype         \n",
      "---  ------          --------------  -----         \n",
      " 0   user_id         2013 non-null   object        \n",
      " 1   order_dt        2013 non-null   datetime64[ns]\n",
      " 2   order_products  2013 non-null   int64         \n",
      " 3   order_amount    2013 non-null   int64         \n",
      "dtypes: datetime64[ns](1), int64(2), object(1)\n",
      "memory usage: 63.0+ KB\n"
     ]
    }
   ],
   "source": [
    "df.info()#查看数据类型"
   ]
  },
  {
   "cell_type": "markdown",
   "metadata": {},
   "source": [
    "分析：经查，本数据集不存在空值。"
   ]
  },
  {
   "cell_type": "markdown",
   "metadata": {},
   "source": []
  },
  {
   "cell_type": "markdown",
   "metadata": {},
   "source": [
    "# 数据处理"
   ]
  },
  {
   "cell_type": "markdown",
   "metadata": {},
   "source": [
    "## 数据类型转换"
   ]
  },
  {
   "cell_type": "code",
   "execution_count": 7,
   "metadata": {},
   "outputs": [
    {
     "data": {
      "text/html": [
       "<div>\n",
       "<style scoped>\n",
       "    .dataframe tbody tr th:only-of-type {\n",
       "        vertical-align: middle;\n",
       "    }\n",
       "\n",
       "    .dataframe tbody tr th {\n",
       "        vertical-align: top;\n",
       "    }\n",
       "\n",
       "    .dataframe thead th {\n",
       "        text-align: right;\n",
       "    }\n",
       "</style>\n",
       "<table border=\"1\" class=\"dataframe\">\n",
       "  <thead>\n",
       "    <tr style=\"text-align: right;\">\n",
       "      <th></th>\n",
       "      <th>user_id</th>\n",
       "      <th>order_dt</th>\n",
       "      <th>order_products</th>\n",
       "      <th>order_amount</th>\n",
       "      <th>month</th>\n",
       "    </tr>\n",
       "  </thead>\n",
       "  <tbody>\n",
       "    <tr>\n",
       "      <th>0</th>\n",
       "      <td>vs30033073</td>\n",
       "      <td>2020-01-17</td>\n",
       "      <td>1</td>\n",
       "      <td>20</td>\n",
       "      <td>2020-01-01</td>\n",
       "    </tr>\n",
       "    <tr>\n",
       "      <th>1</th>\n",
       "      <td>vs30026748</td>\n",
       "      <td>2019-12-04</td>\n",
       "      <td>1</td>\n",
       "      <td>20</td>\n",
       "      <td>2019-12-01</td>\n",
       "    </tr>\n",
       "    <tr>\n",
       "      <th>2</th>\n",
       "      <td>vs10000716</td>\n",
       "      <td>2019-07-05</td>\n",
       "      <td>1</td>\n",
       "      <td>20</td>\n",
       "      <td>2019-07-01</td>\n",
       "    </tr>\n",
       "    <tr>\n",
       "      <th>3</th>\n",
       "      <td>vs30032785</td>\n",
       "      <td>2019-08-21</td>\n",
       "      <td>2</td>\n",
       "      <td>0</td>\n",
       "      <td>2019-08-01</td>\n",
       "    </tr>\n",
       "    <tr>\n",
       "      <th>4</th>\n",
       "      <td>vs10000716</td>\n",
       "      <td>2019-10-24</td>\n",
       "      <td>1</td>\n",
       "      <td>20</td>\n",
       "      <td>2019-10-01</td>\n",
       "    </tr>\n",
       "    <tr>\n",
       "      <th>5</th>\n",
       "      <td>vs30033073</td>\n",
       "      <td>2019-11-29</td>\n",
       "      <td>2</td>\n",
       "      <td>20</td>\n",
       "      <td>2019-11-01</td>\n",
       "    </tr>\n",
       "    <tr>\n",
       "      <th>6</th>\n",
       "      <td>vs10000621</td>\n",
       "      <td>2019-07-19</td>\n",
       "      <td>2</td>\n",
       "      <td>20</td>\n",
       "      <td>2019-07-01</td>\n",
       "    </tr>\n",
       "    <tr>\n",
       "      <th>7</th>\n",
       "      <td>vs30029475</td>\n",
       "      <td>2019-05-17</td>\n",
       "      <td>1</td>\n",
       "      <td>20</td>\n",
       "      <td>2019-05-01</td>\n",
       "    </tr>\n",
       "    <tr>\n",
       "      <th>8</th>\n",
       "      <td>vs30030664</td>\n",
       "      <td>2019-11-11</td>\n",
       "      <td>1</td>\n",
       "      <td>20</td>\n",
       "      <td>2019-11-01</td>\n",
       "    </tr>\n",
       "    <tr>\n",
       "      <th>9</th>\n",
       "      <td>vs10000773</td>\n",
       "      <td>2019-11-25</td>\n",
       "      <td>1</td>\n",
       "      <td>20</td>\n",
       "      <td>2019-11-01</td>\n",
       "    </tr>\n",
       "  </tbody>\n",
       "</table>\n",
       "</div>"
      ],
      "text/plain": [
       "      user_id    order_dt  order_products  order_amount      month\n",
       "0  vs30033073  2020-01-17               1            20 2020-01-01\n",
       "1  vs30026748  2019-12-04               1            20 2019-12-01\n",
       "2  vs10000716  2019-07-05               1            20 2019-07-01\n",
       "3  vs30032785  2019-08-21               2             0 2019-08-01\n",
       "4  vs10000716  2019-10-24               1            20 2019-10-01\n",
       "5  vs30033073  2019-11-29               2            20 2019-11-01\n",
       "6  vs10000621  2019-07-19               2            20 2019-07-01\n",
       "7  vs30029475  2019-05-17               1            20 2019-05-01\n",
       "8  vs30030664  2019-11-11               1            20 2019-11-01\n",
       "9  vs10000773  2019-11-25               1            20 2019-11-01"
      ]
     },
     "execution_count": 7,
     "metadata": {},
     "output_type": "execute_result"
    }
   ],
   "source": [
    "#提取月份\n",
    "df['order_dt']=df['order_dt'].dt.date\n",
    "df['month']=df['order_dt'].astype('datetime64[M]')\n",
    "df.head(10)"
   ]
  },
  {
   "cell_type": "markdown",
   "metadata": {},
   "source": [
    "# 数据分析-月度总趋势分析"
   ]
  },
  {
   "cell_type": "code",
   "execution_count": 8,
   "metadata": {},
   "outputs": [
    {
     "data": {
      "text/plain": [
       "Text(0.5, 1.0, '不同月份的用户消费金额')"
      ]
     },
     "execution_count": 8,
     "metadata": {},
     "output_type": "execute_result"
    },
    {
     "data": {
      "image/png": "[encoded data removed]",
      "text/plain": [
       "<Figure size 432x288 with 1 Axes>"
      ]
     },
     "metadata": {},
     "output_type": "display_data"
    }
   ],
   "source": [
    "df.groupby('month').order_amount.sum().plot()\n",
    "plt.xlabel('月份')\n",
    "plt.ylabel('消费金额(元)')\n",
    "plt.title('不同月份的用户消费金额',fontsize=20)"
   ]
  },
  {
   "cell_type": "markdown",
   "metadata": {},
   "source": [
    "分析：按月统计每个月的商品消费金额，可以看到，各月份销量波动起伏较大。"
   ]
  },
  {
   "cell_type": "code",
   "execution_count": 9,
   "metadata": {},
   "outputs": [
    {
     "data": {
      "text/plain": [
       "Text(0.5, 1.0, '不同月份的产品购买量')"
      ]
     },
     "execution_count": 9,
     "metadata": {},
     "output_type": "execute_result"
    },
    {
     "data": {
      "image/png": "[encoded data removed]",
      "text/plain": [
       "<Figure size 432x288 with 1 Axes>"
      ]
     },
     "metadata": {},
     "output_type": "display_data"
    }
   ],
   "source": [
    "df.groupby('month').order_products.sum().plot()\n",
    "plt.xlabel('月份')\n",
    "plt.ylabel('商品个数')\n",
    "plt.title('不同月份的产品购买量',fontsize=20)"
   ]
  },
  {
   "cell_type": "markdown",
   "metadata": {},
   "source": [
    "说明：每月的产品购买量呈现前7个月快速上升，后5个月整体下降的趋势。"
   ]
  },
  {
   "cell_type": "code",
   "execution_count": 10,
   "metadata": {},
   "outputs": [
    {
     "data": {
      "text/plain": [
       "Text(0.5, 1.0, '不同月份的消费次数')"
      ]
     },
     "execution_count": 10,
     "metadata": {},
     "output_type": "execute_result"
    },
    {
     "data": {
      "image/png": "[encoded data removed]",
      "text/plain": [
       "<Figure size 432x288 with 1 Axes>"
      ]
     },
     "metadata": {},
     "output_type": "display_data"
    }
   ],
   "source": [
    "df.groupby('month').user_id.count().plot()\n",
    "plt.xlabel('月份')\n",
    "plt.ylabel('消费次数')\n",
    "plt.title('不同月份的消费次数',fontsize=20)"
   ]
  },
  {
   "cell_type": "markdown",
   "metadata": {},
   "source": [
    "说明：至7月份消费次数超过250次，后续月份的消费次数开始呈现下降趋势。"
   ]
  },
  {
   "cell_type": "code",
   "execution_count": 11,
   "metadata": {},
   "outputs": [
    {
     "data": {
      "text/plain": [
       "Text(0.5, 1.0, '不同月份的消费人数')"
      ]
     },
     "execution_count": 11,
     "metadata": {},
     "output_type": "execute_result"
    },
    {
     "data": {
      "image/png": "[encoded data removed]",
      "text/plain": [
       "<Figure size 432x288 with 1 Axes>"
      ]
     },
     "metadata": {},
     "output_type": "display_data"
    }
   ],
   "source": [
    "df.groupby('month').user_id.nunique().plot()\n",
    "plt.xlabel('月份')\n",
    "plt.ylabel('消费人数')\n",
    "plt.title('不同月份的消费人数',fontsize=20)"
   ]
  },
  {
   "cell_type": "markdown",
   "metadata": {},
   "source": [
    "说明：每月的消费人数小于每月的消费次数。至7月份消费人数达90人，后续月份的消费人数开始呈现下降趋势。"
   ]
  },
  {
   "cell_type": "markdown",
   "metadata": {},
   "source": [
    "# 数据分析-用户个体行为分析"
   ]
  },
  {
   "cell_type": "code",
   "execution_count": 12,
   "metadata": {},
   "outputs": [
    {
     "data": {
      "text/html": [
       "<div>\n",
       "<style scoped>\n",
       "    .dataframe tbody tr th:only-of-type {\n",
       "        vertical-align: middle;\n",
       "    }\n",
       "\n",
       "    .dataframe tbody tr th {\n",
       "        vertical-align: top;\n",
       "    }\n",
       "\n",
       "    .dataframe thead th {\n",
       "        text-align: right;\n",
       "    }\n",
       "</style>\n",
       "<table border=\"1\" class=\"dataframe\">\n",
       "  <thead>\n",
       "    <tr style=\"text-align: right;\">\n",
       "      <th></th>\n",
       "      <th>order_products</th>\n",
       "      <th>order_amount</th>\n",
       "    </tr>\n",
       "    <tr>\n",
       "      <th>user_id</th>\n",
       "      <th></th>\n",
       "      <th></th>\n",
       "    </tr>\n",
       "  </thead>\n",
       "  <tbody>\n",
       "    <tr>\n",
       "      <th>vs10000005</th>\n",
       "      <td>9</td>\n",
       "      <td>189</td>\n",
       "    </tr>\n",
       "    <tr>\n",
       "      <th>vs10000621</th>\n",
       "      <td>214</td>\n",
       "      <td>5704</td>\n",
       "    </tr>\n",
       "    <tr>\n",
       "      <th>vs10000627</th>\n",
       "      <td>2</td>\n",
       "      <td>0</td>\n",
       "    </tr>\n",
       "    <tr>\n",
       "      <th>vs10000716</th>\n",
       "      <td>250</td>\n",
       "      <td>2616</td>\n",
       "    </tr>\n",
       "    <tr>\n",
       "      <th>vs10000743</th>\n",
       "      <td>1</td>\n",
       "      <td>20</td>\n",
       "    </tr>\n",
       "  </tbody>\n",
       "</table>\n",
       "</div>"
      ],
      "text/plain": [
       "            order_products  order_amount\n",
       "user_id                                 \n",
       "vs10000005               9           189\n",
       "vs10000621             214          5704\n",
       "vs10000627               2             0\n",
       "vs10000716             250          2616\n",
       "vs10000743               1            20"
      ]
     },
     "execution_count": 12,
     "metadata": {},
     "output_type": "execute_result"
    }
   ],
   "source": [
    "df.groupby('user_id').sum().head()"
   ]
  },
  {
   "cell_type": "code",
   "execution_count": 13,
   "metadata": {},
   "outputs": [
    {
     "data": {
      "text/plain": [
       "Text(0.5, 1.0, '用户消费金额与产品个数的关系散点图')"
      ]
     },
     "execution_count": 13,
     "metadata": {},
     "output_type": "execute_result"
    },
    {
     "data": {
      "image/png": "[encoded data removed]",
      "text/plain": [
       "<Figure size 432x288 with 1 Axes>"
      ]
     },
     "metadata": {},
     "output_type": "display_data"
    }
   ],
   "source": [
    "user_consume=df.groupby('user_id').sum()\n",
    "plt.scatter(user_consume['order_products'], user_consume['order_amount'] ) \n",
    "plt.xlabel('消费产品个数')\n",
    "plt.ylabel('消费金额')\n",
    "plt.title('用户消费金额与产品个数的关系散点图',fontsize=20)"
   ]
  },
  {
   "cell_type": "markdown",
   "metadata": {},
   "source": [
    "说明：订单消费金额和订单商品量的关系不呈线性，用户消费规律性不强，订单的极值较多。"
   ]
  },
  {
   "cell_type": "code",
   "execution_count": 14,
   "metadata": {},
   "outputs": [
    {
     "data": {
      "text/plain": [
       "Text(0, 0.5, '人数')"
      ]
     },
     "execution_count": 14,
     "metadata": {},
     "output_type": "execute_result"
    },
    {
     "data": {
      "image/png": "[encoded data removed]",
      "text/plain": [
       "<Figure size 720x432 with 2 Axes>"
      ]
     },
     "metadata": {},
     "output_type": "display_data"
    }
   ],
   "source": [
    "consume_products = user_consume['order_products']\n",
    "consume_amount= user_consume['order_amount'] \n",
    "\n",
    "fig= plt.figure(figsize=(10.,6))\n",
    "fig.add_subplot(1,2,1)\n",
    "consume_products.hist(bins=10 )\n",
    "plt.title('用户购买数量分布直方图')\n",
    "plt.xlabel('购买数量')\n",
    "plt.ylabel('人数')\n",
    "    \n",
    "fig.add_subplot(1,2,2)\n",
    "consume_amount.hist(bins=10) \n",
    "plt.title('用户购买金额分布直方图')\n",
    "plt.xlabel('购买金额')\n",
    "plt.ylabel('人数')"
   ]
  },
  {
   "cell_type": "markdown",
   "metadata": {},
   "source": [
    "说明：大部分用户消费能力不高，整个计算周期内购买数量在50以内，消费金额在1000以内。"
   ]
  },
  {
   "cell_type": "code",
   "execution_count": 15,
   "metadata": {},
   "outputs": [
    {
     "data": {
      "text/plain": [
       "2019-08-01    62\n",
       "2019-07-01    53\n",
       "2019-09-01    43\n",
       "2019-10-01    22\n",
       "2019-11-01    16\n",
       "2019-03-01    13\n",
       "2020-01-01    11\n",
       "2019-06-01     9\n",
       "2019-05-01     8\n",
       "2019-12-01     5\n",
       "2020-02-01     3\n",
       "2019-04-01     2\n",
       "Name: month, dtype: int64"
      ]
     },
     "execution_count": 15,
     "metadata": {},
     "output_type": "execute_result"
    }
   ],
   "source": [
    "df.groupby('user_id').month.min().value_counts()"
   ]
  },
  {
   "cell_type": "code",
   "execution_count": 16,
   "metadata": {},
   "outputs": [
    {
     "data": {
      "text/plain": [
       "Text(0, 0.5, '会员数')"
      ]
     },
     "execution_count": 16,
     "metadata": {},
     "output_type": "execute_result"
    },
    {
     "data": {
      "image/png": "[encoded data removed]",
      "text/plain": [
       "<Figure size 432x288 with 1 Axes>"
      ]
     },
     "metadata": {},
     "output_type": "display_data"
    }
   ],
   "source": [
    "df.groupby('user_id').month.min().value_counts().plot()\n",
    "plt.title('第一次消费会员数和时间拆线图')\n",
    "plt.xlabel('首购时间')\n",
    "plt.ylabel('会员数')"
   ]
  },
  {
   "cell_type": "code",
   "execution_count": 17,
   "metadata": {},
   "outputs": [
    {
     "data": {
      "text/plain": [
       "2019-08-01    65\n",
       "2019-09-01    52\n",
       "2019-07-01    39\n",
       "2019-10-01    22\n",
       "2020-01-01    21\n",
       "2020-02-01    17\n",
       "2019-11-01    16\n",
       "2019-12-01     8\n",
       "2019-03-01     3\n",
       "2019-06-01     3\n",
       "2019-05-01     1\n",
       "Name: month, dtype: int64"
      ]
     },
     "execution_count": 17,
     "metadata": {},
     "output_type": "execute_result"
    }
   ],
   "source": [
    "df.groupby('user_id').month.max().value_counts()"
   ]
  },
  {
   "cell_type": "code",
   "execution_count": 18,
   "metadata": {},
   "outputs": [
    {
     "data": {
      "text/plain": [
       "Text(0, 0.5, '会员数')"
      ]
     },
     "execution_count": 18,
     "metadata": {},
     "output_type": "execute_result"
    },
    {
     "data": {
      "image/png": "[encoded data removed]",
      "text/plain": [
       "<Figure size 432x288 with 1 Axes>"
      ]
     },
     "metadata": {},
     "output_type": "display_data"
    }
   ],
   "source": [
    "df.groupby('user_id').month.max().value_counts().plot()\n",
    "plt.title('最后一次消费会员数和时间拆线图')\n",
    "plt.xlabel('最后购买时间')\n",
    "plt.ylabel('会员数')"
   ]
  },
  {
   "cell_type": "code",
   "execution_count": 22,
   "metadata": {},
   "outputs": [
    {
     "data": {
      "text/plain": [
       "0 days      177\n",
       "31 days      24\n",
       "61 days       6\n",
       "92 days       6\n",
       "122 days      6\n",
       "337 days      5\n",
       "30 days       4\n",
       "306 days      3\n",
       "153 days      3\n",
       "184 days      3\n",
       "62 days       2\n",
       "123 days      2\n",
       "215 days      2\n",
       "245 days      2\n",
       "275 days      1\n",
       "276 days      1\n",
       "dtype: int64"
      ]
     },
     "execution_count": 22,
     "metadata": {},
     "output_type": "execute_result"
    }
   ],
   "source": [
    "#各会员首次、最后一次消费时间间隔\n",
    "(df.groupby('user_id')['month'].agg([('num1','min'), ('num2','max')]).num2-df.groupby('user_id')['month'].agg([('num1','min'), ('num2','max')]).num1).value_counts()\n"
   ]
  },
  {
   "cell_type": "markdown",
   "metadata": {},
   "source": [
    "说明：\n",
    "1.用groupby函数将用户分组，并且求月份的最小值、最小值即用户消费行为的第一次消费时间。\n",
    "2.大部分用户的第一次消费集中在7、8月份，观察用户的最后一次消费时间，将近80%的客户都在首次消费1个月内流失。"
   ]
  },
  {
   "cell_type": "markdown",
   "metadata": {},
   "source": [
    "# 数据分析-用户行为中的复购率和回购率分析"
   ]
  },
  {
   "cell_type": "markdown",
   "metadata": {},
   "source": [
    "## 数据透视-每位会员各月消费次数"
   ]
  },
  {
   "cell_type": "code",
   "execution_count": 23,
   "metadata": {},
   "outputs": [
    {
     "data": {
      "text/html": [
       "<div>\n",
       "<style scoped>\n",
       "    .dataframe tbody tr th:only-of-type {\n",
       "        vertical-align: middle;\n",
       "    }\n",
       "\n",
       "    .dataframe tbody tr th {\n",
       "        vertical-align: top;\n",
       "    }\n",
       "\n",
       "    .dataframe thead th {\n",
       "        text-align: right;\n",
       "    }\n",
       "</style>\n",
       "<table border=\"1\" class=\"dataframe\">\n",
       "  <thead>\n",
       "    <tr style=\"text-align: right;\">\n",
       "      <th></th>\n",
       "      <th>2019-03-01</th>\n",
       "      <th>2019-04-01</th>\n",
       "      <th>2019-05-01</th>\n",
       "      <th>2019-06-01</th>\n",
       "      <th>2019-07-01</th>\n",
       "      <th>2019-08-01</th>\n",
       "      <th>2019-09-01</th>\n",
       "      <th>2019-10-01</th>\n",
       "      <th>2019-11-01</th>\n",
       "      <th>2019-12-01</th>\n",
       "      <th>2020-01-01</th>\n",
       "      <th>2020-02-01</th>\n",
       "    </tr>\n",
       "    <tr>\n",
       "      <th>user_id</th>\n",
       "      <th></th>\n",
       "      <th></th>\n",
       "      <th></th>\n",
       "      <th></th>\n",
       "      <th></th>\n",
       "      <th></th>\n",
       "      <th></th>\n",
       "      <th></th>\n",
       "      <th></th>\n",
       "      <th></th>\n",
       "      <th></th>\n",
       "      <th></th>\n",
       "    </tr>\n",
       "  </thead>\n",
       "  <tbody>\n",
       "    <tr>\n",
       "      <th>vs10000005</th>\n",
       "      <td>2.00</td>\n",
       "      <td>0.00</td>\n",
       "      <td>3.00</td>\n",
       "      <td>0.00</td>\n",
       "      <td>0.00</td>\n",
       "      <td>0.00</td>\n",
       "      <td>0.00</td>\n",
       "      <td>0.00</td>\n",
       "      <td>0.00</td>\n",
       "      <td>1.00</td>\n",
       "      <td>0.00</td>\n",
       "      <td>0.00</td>\n",
       "    </tr>\n",
       "    <tr>\n",
       "      <th>vs10000621</th>\n",
       "      <td>6.00</td>\n",
       "      <td>17.00</td>\n",
       "      <td>19.00</td>\n",
       "      <td>20.00</td>\n",
       "      <td>17.00</td>\n",
       "      <td>5.00</td>\n",
       "      <td>2.00</td>\n",
       "      <td>18.00</td>\n",
       "      <td>18.00</td>\n",
       "      <td>21.00</td>\n",
       "      <td>16.00</td>\n",
       "      <td>10.00</td>\n",
       "    </tr>\n",
       "    <tr>\n",
       "      <th>vs10000627</th>\n",
       "      <td>0.00</td>\n",
       "      <td>0.00</td>\n",
       "      <td>0.00</td>\n",
       "      <td>0.00</td>\n",
       "      <td>2.00</td>\n",
       "      <td>0.00</td>\n",
       "      <td>0.00</td>\n",
       "      <td>0.00</td>\n",
       "      <td>0.00</td>\n",
       "      <td>0.00</td>\n",
       "      <td>0.00</td>\n",
       "      <td>0.00</td>\n",
       "    </tr>\n",
       "    <tr>\n",
       "      <th>vs10000716</th>\n",
       "      <td>0.00</td>\n",
       "      <td>0.00</td>\n",
       "      <td>0.00</td>\n",
       "      <td>0.00</td>\n",
       "      <td>14.00</td>\n",
       "      <td>19.00</td>\n",
       "      <td>24.00</td>\n",
       "      <td>12.00</td>\n",
       "      <td>30.00</td>\n",
       "      <td>15.00</td>\n",
       "      <td>12.00</td>\n",
       "      <td>5.00</td>\n",
       "    </tr>\n",
       "    <tr>\n",
       "      <th>vs10000743</th>\n",
       "      <td>1.00</td>\n",
       "      <td>0.00</td>\n",
       "      <td>0.00</td>\n",
       "      <td>0.00</td>\n",
       "      <td>0.00</td>\n",
       "      <td>0.00</td>\n",
       "      <td>0.00</td>\n",
       "      <td>0.00</td>\n",
       "      <td>0.00</td>\n",
       "      <td>0.00</td>\n",
       "      <td>0.00</td>\n",
       "      <td>0.00</td>\n",
       "    </tr>\n",
       "  </tbody>\n",
       "</table>\n",
       "</div>"
      ],
      "text/plain": [
       "            2019-03-01  2019-04-01  2019-05-01  2019-06-01  2019-07-01  \\\n",
       "user_id                                                                  \n",
       "vs10000005        2.00        0.00        3.00        0.00        0.00   \n",
       "vs10000621        6.00       17.00       19.00       20.00       17.00   \n",
       "vs10000627        0.00        0.00        0.00        0.00        2.00   \n",
       "vs10000716        0.00        0.00        0.00        0.00       14.00   \n",
       "vs10000743        1.00        0.00        0.00        0.00        0.00   \n",
       "\n",
       "            2019-08-01  2019-09-01  2019-10-01  2019-11-01  2019-12-01  \\\n",
       "user_id                                                                  \n",
       "vs10000005        0.00        0.00        0.00        0.00        1.00   \n",
       "vs10000621        5.00        2.00       18.00       18.00       21.00   \n",
       "vs10000627        0.00        0.00        0.00        0.00        0.00   \n",
       "vs10000716       19.00       24.00       12.00       30.00       15.00   \n",
       "vs10000743        0.00        0.00        0.00        0.00        0.00   \n",
       "\n",
       "            2020-01-01  2020-02-01  \n",
       "user_id                             \n",
       "vs10000005        0.00        0.00  \n",
       "vs10000621       16.00       10.00  \n",
       "vs10000627        0.00        0.00  \n",
       "vs10000716       12.00        5.00  \n",
       "vs10000743        0.00        0.00  "
      ]
     },
     "execution_count": 23,
     "metadata": {},
     "output_type": "execute_result"
    }
   ],
   "source": [
    "#统计用户消费次数\n",
    "pivoted_counts=df.pivot_table(index='user_id',columns='month',values='order_dt',aggfunc='count').fillna(0)\n",
    "columns_month=df.month.dt.date.sort_values().unique()\n",
    "pivoted_counts.columns=columns_month\n",
    "pivoted_counts.head()"
   ]
  },
  {
   "cell_type": "markdown",
   "metadata": {},
   "source": [
    "##  复购率分析"
   ]
  },
  {
   "cell_type": "code",
   "execution_count": 24,
   "metadata": {},
   "outputs": [
    {
     "name": "stderr",
     "output_type": "stream",
     "text": [
      "C:\\Users\\wsxia\\anaconda3\\lib\\site-packages\\ipykernel_launcher.py:3: UserWarning: Pandas doesn't allow columns to be created via a new attribute name - see https://pandas.pydata.org/pandas-docs/stable/indexing.html#attribute-access\n",
      "  This is separate from the ipykernel package so we can avoid doing imports until\n"
     ]
    },
    {
     "data": {
      "text/html": [
       "<div>\n",
       "<style scoped>\n",
       "    .dataframe tbody tr th:only-of-type {\n",
       "        vertical-align: middle;\n",
       "    }\n",
       "\n",
       "    .dataframe tbody tr th {\n",
       "        vertical-align: top;\n",
       "    }\n",
       "\n",
       "    .dataframe thead th {\n",
       "        text-align: right;\n",
       "    }\n",
       "</style>\n",
       "<table border=\"1\" class=\"dataframe\">\n",
       "  <thead>\n",
       "    <tr style=\"text-align: right;\">\n",
       "      <th></th>\n",
       "      <th>2019-03-01</th>\n",
       "      <th>2019-04-01</th>\n",
       "      <th>2019-05-01</th>\n",
       "      <th>2019-06-01</th>\n",
       "      <th>2019-07-01</th>\n",
       "      <th>2019-08-01</th>\n",
       "      <th>2019-09-01</th>\n",
       "      <th>2019-10-01</th>\n",
       "      <th>2019-11-01</th>\n",
       "      <th>2019-12-01</th>\n",
       "      <th>2020-01-01</th>\n",
       "      <th>2020-02-01</th>\n",
       "    </tr>\n",
       "    <tr>\n",
       "      <th>user_id</th>\n",
       "      <th></th>\n",
       "      <th></th>\n",
       "      <th></th>\n",
       "      <th></th>\n",
       "      <th></th>\n",
       "      <th></th>\n",
       "      <th></th>\n",
       "      <th></th>\n",
       "      <th></th>\n",
       "      <th></th>\n",
       "      <th></th>\n",
       "      <th></th>\n",
       "    </tr>\n",
       "  </thead>\n",
       "  <tbody>\n",
       "    <tr>\n",
       "      <th>vs10000005</th>\n",
       "      <td>1.00</td>\n",
       "      <td>nan</td>\n",
       "      <td>1.00</td>\n",
       "      <td>nan</td>\n",
       "      <td>nan</td>\n",
       "      <td>nan</td>\n",
       "      <td>nan</td>\n",
       "      <td>nan</td>\n",
       "      <td>nan</td>\n",
       "      <td>0.00</td>\n",
       "      <td>nan</td>\n",
       "      <td>nan</td>\n",
       "    </tr>\n",
       "    <tr>\n",
       "      <th>vs10000621</th>\n",
       "      <td>1.00</td>\n",
       "      <td>1.00</td>\n",
       "      <td>1.00</td>\n",
       "      <td>1.00</td>\n",
       "      <td>1.00</td>\n",
       "      <td>1.00</td>\n",
       "      <td>1.00</td>\n",
       "      <td>1.00</td>\n",
       "      <td>1.00</td>\n",
       "      <td>1.00</td>\n",
       "      <td>1.00</td>\n",
       "      <td>1.00</td>\n",
       "    </tr>\n",
       "    <tr>\n",
       "      <th>vs10000627</th>\n",
       "      <td>nan</td>\n",
       "      <td>nan</td>\n",
       "      <td>nan</td>\n",
       "      <td>nan</td>\n",
       "      <td>1.00</td>\n",
       "      <td>nan</td>\n",
       "      <td>nan</td>\n",
       "      <td>nan</td>\n",
       "      <td>nan</td>\n",
       "      <td>nan</td>\n",
       "      <td>nan</td>\n",
       "      <td>nan</td>\n",
       "    </tr>\n",
       "    <tr>\n",
       "      <th>vs10000716</th>\n",
       "      <td>nan</td>\n",
       "      <td>nan</td>\n",
       "      <td>nan</td>\n",
       "      <td>nan</td>\n",
       "      <td>1.00</td>\n",
       "      <td>1.00</td>\n",
       "      <td>1.00</td>\n",
       "      <td>1.00</td>\n",
       "      <td>1.00</td>\n",
       "      <td>1.00</td>\n",
       "      <td>1.00</td>\n",
       "      <td>1.00</td>\n",
       "    </tr>\n",
       "    <tr>\n",
       "      <th>vs10000743</th>\n",
       "      <td>0.00</td>\n",
       "      <td>nan</td>\n",
       "      <td>nan</td>\n",
       "      <td>nan</td>\n",
       "      <td>nan</td>\n",
       "      <td>nan</td>\n",
       "      <td>nan</td>\n",
       "      <td>nan</td>\n",
       "      <td>nan</td>\n",
       "      <td>nan</td>\n",
       "      <td>nan</td>\n",
       "      <td>nan</td>\n",
       "    </tr>\n",
       "  </tbody>\n",
       "</table>\n",
       "</div>"
      ],
      "text/plain": [
       "            2019-03-01  2019-04-01  2019-05-01  2019-06-01  2019-07-01  \\\n",
       "user_id                                                                  \n",
       "vs10000005        1.00         nan        1.00         nan         nan   \n",
       "vs10000621        1.00        1.00        1.00        1.00        1.00   \n",
       "vs10000627         nan         nan         nan         nan        1.00   \n",
       "vs10000716         nan         nan         nan         nan        1.00   \n",
       "vs10000743        0.00         nan         nan         nan         nan   \n",
       "\n",
       "            2019-08-01  2019-09-01  2019-10-01  2019-11-01  2019-12-01  \\\n",
       "user_id                                                                  \n",
       "vs10000005         nan         nan         nan         nan        0.00   \n",
       "vs10000621        1.00        1.00        1.00        1.00        1.00   \n",
       "vs10000627         nan         nan         nan         nan         nan   \n",
       "vs10000716        1.00        1.00        1.00        1.00        1.00   \n",
       "vs10000743         nan         nan         nan         nan         nan   \n",
       "\n",
       "            2020-01-01  2020-02-01  \n",
       "user_id                             \n",
       "vs10000005         nan         nan  \n",
       "vs10000621        1.00        1.00  \n",
       "vs10000627         nan         nan  \n",
       "vs10000716        1.00        1.00  \n",
       "vs10000743         nan         nan  "
      ]
     },
     "execution_count": 24,
     "metadata": {},
     "output_type": "execute_result"
    }
   ],
   "source": [
    "#复购率的定义是在某时间窗口内消费两次及以上的用户在总消费用户中占比。这里的时间窗口是月，如果一个用户在同一天下了两笔订单，这里也将他算作复购用户。\n",
    "#消费两次及以上记为1，消费一次记为0，没有消费记为NaN。\n",
    "pivoted_counts.transf=pivoted_counts.applymap(lambda x:1 if x>1 else np.NaN if x==0 else 0)\n",
    "pivoted_counts.transf.head()"
   ]
  },
  {
   "cell_type": "code",
   "execution_count": 25,
   "metadata": {},
   "outputs": [
    {
     "data": {
      "text/plain": [
       "Text(0, 0.5, '百分比')"
      ]
     },
     "execution_count": 25,
     "metadata": {},
     "output_type": "execute_result"
    },
    {
     "data": {
      "image/png": "[encoded data removed]",
      "text/plain": [
       "<Figure size 432x288 with 1 Axes>"
      ]
     },
     "metadata": {},
     "output_type": "display_data"
    }
   ],
   "source": [
    "month_counts_reorder_rate=pivoted_counts.transf.sum()/pivoted_counts.transf.count()\n",
    "plt.plot(month_counts_reorder_rate)\n",
    "plt.title('每月用户复购率图')\n",
    "plt.xlabel('时间(月)')\n",
    "plt.ylabel('百分比')"
   ]
  },
  {
   "cell_type": "markdown",
   "metadata": {},
   "source": [
    "说明：3月至6月新用户加入数量较少，拉高了复购率。在大量新用户加入并流失的8月的复购率较低。而在后期，这时的用户都是大浪淘沙剩下的老客，复购率继续上升。"
   ]
  },
  {
   "cell_type": "code",
   "execution_count": 26,
   "metadata": {},
   "outputs": [
    {
     "data": {
      "text/plain": [
       "Text(0, 0.5, '用户数')"
      ]
     },
     "execution_count": 26,
     "metadata": {},
     "output_type": "execute_result"
    },
    {
     "data": {
      "image/png": "[encoded data removed]",
      "text/plain": [
       "<Figure size 720x432 with 1 Axes>"
      ]
     },
     "metadata": {},
     "output_type": "display_data"
    }
   ],
   "source": [
    "a,b=plt.subplots(figsize=(10,6))\n",
    "b.plot(pivoted_counts.transf.count())\n",
    "b.plot(pivoted_counts.transf.sum())\n",
    "legends=['消费人数','二次消费以上用户人数']\n",
    "b.legend(legends)\n",
    "plt.title('每月消费和二次消费以上用户人数')\n",
    "plt.xlabel('时间(月)')\n",
    "plt.ylabel('用户数')"
   ]
  },
  {
   "cell_type": "markdown",
   "metadata": {},
   "source": [
    "## 回购率分析"
   ]
  },
  {
   "cell_type": "code",
   "execution_count": 27,
   "metadata": {},
   "outputs": [
    {
     "data": {
      "text/html": [
       "<div>\n",
       "<style scoped>\n",
       "    .dataframe tbody tr th:only-of-type {\n",
       "        vertical-align: middle;\n",
       "    }\n",
       "\n",
       "    .dataframe tbody tr th {\n",
       "        vertical-align: top;\n",
       "    }\n",
       "\n",
       "    .dataframe thead th {\n",
       "        text-align: right;\n",
       "    }\n",
       "</style>\n",
       "<table border=\"1\" class=\"dataframe\">\n",
       "  <thead>\n",
       "    <tr style=\"text-align: right;\">\n",
       "      <th></th>\n",
       "      <th>2019-03-01</th>\n",
       "      <th>2019-04-01</th>\n",
       "      <th>2019-05-01</th>\n",
       "      <th>2019-06-01</th>\n",
       "      <th>2019-07-01</th>\n",
       "      <th>2019-08-01</th>\n",
       "      <th>2019-09-01</th>\n",
       "      <th>2019-10-01</th>\n",
       "      <th>2019-11-01</th>\n",
       "      <th>2019-12-01</th>\n",
       "      <th>2020-01-01</th>\n",
       "      <th>2020-02-01</th>\n",
       "    </tr>\n",
       "    <tr>\n",
       "      <th>user_id</th>\n",
       "      <th></th>\n",
       "      <th></th>\n",
       "      <th></th>\n",
       "      <th></th>\n",
       "      <th></th>\n",
       "      <th></th>\n",
       "      <th></th>\n",
       "      <th></th>\n",
       "      <th></th>\n",
       "      <th></th>\n",
       "      <th></th>\n",
       "      <th></th>\n",
       "    </tr>\n",
       "  </thead>\n",
       "  <tbody>\n",
       "    <tr>\n",
       "      <th>vs10000005</th>\n",
       "      <td>25.00</td>\n",
       "      <td>0.00</td>\n",
       "      <td>19.67</td>\n",
       "      <td>0.00</td>\n",
       "      <td>0.00</td>\n",
       "      <td>0.00</td>\n",
       "      <td>0.00</td>\n",
       "      <td>0.00</td>\n",
       "      <td>0.00</td>\n",
       "      <td>80.00</td>\n",
       "      <td>0.00</td>\n",
       "      <td>0.00</td>\n",
       "    </tr>\n",
       "    <tr>\n",
       "      <th>vs10000621</th>\n",
       "      <td>414.00</td>\n",
       "      <td>20.00</td>\n",
       "      <td>20.00</td>\n",
       "      <td>20.00</td>\n",
       "      <td>17.65</td>\n",
       "      <td>20.00</td>\n",
       "      <td>20.00</td>\n",
       "      <td>20.00</td>\n",
       "      <td>20.00</td>\n",
       "      <td>20.00</td>\n",
       "      <td>20.00</td>\n",
       "      <td>20.00</td>\n",
       "    </tr>\n",
       "    <tr>\n",
       "      <th>vs10000627</th>\n",
       "      <td>0.00</td>\n",
       "      <td>0.00</td>\n",
       "      <td>0.00</td>\n",
       "      <td>0.00</td>\n",
       "      <td>0.00</td>\n",
       "      <td>0.00</td>\n",
       "      <td>0.00</td>\n",
       "      <td>0.00</td>\n",
       "      <td>0.00</td>\n",
       "      <td>0.00</td>\n",
       "      <td>0.00</td>\n",
       "      <td>0.00</td>\n",
       "    </tr>\n",
       "    <tr>\n",
       "      <th>vs10000716</th>\n",
       "      <td>0.00</td>\n",
       "      <td>0.00</td>\n",
       "      <td>0.00</td>\n",
       "      <td>0.00</td>\n",
       "      <td>20.00</td>\n",
       "      <td>41.84</td>\n",
       "      <td>10.83</td>\n",
       "      <td>15.00</td>\n",
       "      <td>15.33</td>\n",
       "      <td>20.00</td>\n",
       "      <td>20.00</td>\n",
       "      <td>20.20</td>\n",
       "    </tr>\n",
       "    <tr>\n",
       "      <th>vs10000743</th>\n",
       "      <td>20.00</td>\n",
       "      <td>0.00</td>\n",
       "      <td>0.00</td>\n",
       "      <td>0.00</td>\n",
       "      <td>0.00</td>\n",
       "      <td>0.00</td>\n",
       "      <td>0.00</td>\n",
       "      <td>0.00</td>\n",
       "      <td>0.00</td>\n",
       "      <td>0.00</td>\n",
       "      <td>0.00</td>\n",
       "      <td>0.00</td>\n",
       "    </tr>\n",
       "  </tbody>\n",
       "</table>\n",
       "</div>"
      ],
      "text/plain": [
       "            2019-03-01  2019-04-01  2019-05-01  2019-06-01  2019-07-01  \\\n",
       "user_id                                                                  \n",
       "vs10000005       25.00        0.00       19.67        0.00        0.00   \n",
       "vs10000621      414.00       20.00       20.00       20.00       17.65   \n",
       "vs10000627        0.00        0.00        0.00        0.00        0.00   \n",
       "vs10000716        0.00        0.00        0.00        0.00       20.00   \n",
       "vs10000743       20.00        0.00        0.00        0.00        0.00   \n",
       "\n",
       "            2019-08-01  2019-09-01  2019-10-01  2019-11-01  2019-12-01  \\\n",
       "user_id                                                                  \n",
       "vs10000005        0.00        0.00        0.00        0.00       80.00   \n",
       "vs10000621       20.00       20.00       20.00       20.00       20.00   \n",
       "vs10000627        0.00        0.00        0.00        0.00        0.00   \n",
       "vs10000716       41.84       10.83       15.00       15.33       20.00   \n",
       "vs10000743        0.00        0.00        0.00        0.00        0.00   \n",
       "\n",
       "            2020-01-01  2020-02-01  \n",
       "user_id                             \n",
       "vs10000005        0.00        0.00  \n",
       "vs10000621       20.00       20.00  \n",
       "vs10000627        0.00        0.00  \n",
       "vs10000716       20.00       20.20  \n",
       "vs10000743        0.00        0.00  "
      ]
     },
     "execution_count": 27,
     "metadata": {},
     "output_type": "execute_result"
    }
   ],
   "source": [
    "#回购率是某一个时间窗口内消费的用户，在下一个时间窗口仍旧消费的占比。比如1月消费用户1000，他们中有300个2月依然消费，回购率是30%。\n",
    "pivoted_amount=df.pivot_table(index='user_id',columns='month',values='order_amount',aggfunc='mean').fillna(0)\n",
    "columns_month=df.month.dt.date.sort_values().unique()\n",
    "pivoted_amount.columns=columns_month\n",
    "pivoted_amount.head()"
   ]
  },
  {
   "cell_type": "code",
   "execution_count": 28,
   "metadata": {},
   "outputs": [
    {
     "data": {
      "text/html": [
       "<div>\n",
       "<style scoped>\n",
       "    .dataframe tbody tr th:only-of-type {\n",
       "        vertical-align: middle;\n",
       "    }\n",
       "\n",
       "    .dataframe tbody tr th {\n",
       "        vertical-align: top;\n",
       "    }\n",
       "\n",
       "    .dataframe thead th {\n",
       "        text-align: right;\n",
       "    }\n",
       "</style>\n",
       "<table border=\"1\" class=\"dataframe\">\n",
       "  <thead>\n",
       "    <tr style=\"text-align: right;\">\n",
       "      <th></th>\n",
       "      <th>2019-03-01</th>\n",
       "      <th>2019-04-01</th>\n",
       "      <th>2019-05-01</th>\n",
       "      <th>2019-06-01</th>\n",
       "      <th>2019-07-01</th>\n",
       "      <th>2019-08-01</th>\n",
       "      <th>2019-09-01</th>\n",
       "      <th>2019-10-01</th>\n",
       "      <th>2019-11-01</th>\n",
       "      <th>2019-12-01</th>\n",
       "      <th>2020-01-01</th>\n",
       "      <th>2020-02-01</th>\n",
       "    </tr>\n",
       "    <tr>\n",
       "      <th>user_id</th>\n",
       "      <th></th>\n",
       "      <th></th>\n",
       "      <th></th>\n",
       "      <th></th>\n",
       "      <th></th>\n",
       "      <th></th>\n",
       "      <th></th>\n",
       "      <th></th>\n",
       "      <th></th>\n",
       "      <th></th>\n",
       "      <th></th>\n",
       "      <th></th>\n",
       "    </tr>\n",
       "  </thead>\n",
       "  <tbody>\n",
       "    <tr>\n",
       "      <th>vs10000005</th>\n",
       "      <td>1</td>\n",
       "      <td>0</td>\n",
       "      <td>1</td>\n",
       "      <td>0</td>\n",
       "      <td>0</td>\n",
       "      <td>0</td>\n",
       "      <td>0</td>\n",
       "      <td>0</td>\n",
       "      <td>0</td>\n",
       "      <td>1</td>\n",
       "      <td>0</td>\n",
       "      <td>0</td>\n",
       "    </tr>\n",
       "    <tr>\n",
       "      <th>vs10000621</th>\n",
       "      <td>1</td>\n",
       "      <td>1</td>\n",
       "      <td>1</td>\n",
       "      <td>1</td>\n",
       "      <td>1</td>\n",
       "      <td>1</td>\n",
       "      <td>1</td>\n",
       "      <td>1</td>\n",
       "      <td>1</td>\n",
       "      <td>1</td>\n",
       "      <td>1</td>\n",
       "      <td>1</td>\n",
       "    </tr>\n",
       "    <tr>\n",
       "      <th>vs10000627</th>\n",
       "      <td>0</td>\n",
       "      <td>0</td>\n",
       "      <td>0</td>\n",
       "      <td>0</td>\n",
       "      <td>0</td>\n",
       "      <td>0</td>\n",
       "      <td>0</td>\n",
       "      <td>0</td>\n",
       "      <td>0</td>\n",
       "      <td>0</td>\n",
       "      <td>0</td>\n",
       "      <td>0</td>\n",
       "    </tr>\n",
       "    <tr>\n",
       "      <th>vs10000716</th>\n",
       "      <td>0</td>\n",
       "      <td>0</td>\n",
       "      <td>0</td>\n",
       "      <td>0</td>\n",
       "      <td>1</td>\n",
       "      <td>1</td>\n",
       "      <td>1</td>\n",
       "      <td>1</td>\n",
       "      <td>1</td>\n",
       "      <td>1</td>\n",
       "      <td>1</td>\n",
       "      <td>1</td>\n",
       "    </tr>\n",
       "    <tr>\n",
       "      <th>vs10000743</th>\n",
       "      <td>1</td>\n",
       "      <td>0</td>\n",
       "      <td>0</td>\n",
       "      <td>0</td>\n",
       "      <td>0</td>\n",
       "      <td>0</td>\n",
       "      <td>0</td>\n",
       "      <td>0</td>\n",
       "      <td>0</td>\n",
       "      <td>0</td>\n",
       "      <td>0</td>\n",
       "      <td>0</td>\n",
       "    </tr>\n",
       "  </tbody>\n",
       "</table>\n",
       "</div>"
      ],
      "text/plain": [
       "            2019-03-01  2019-04-01  2019-05-01  2019-06-01  2019-07-01  \\\n",
       "user_id                                                                  \n",
       "vs10000005           1           0           1           0           0   \n",
       "vs10000621           1           1           1           1           1   \n",
       "vs10000627           0           0           0           0           0   \n",
       "vs10000716           0           0           0           0           1   \n",
       "vs10000743           1           0           0           0           0   \n",
       "\n",
       "            2019-08-01  2019-09-01  2019-10-01  2019-11-01  2019-12-01  \\\n",
       "user_id                                                                  \n",
       "vs10000005           0           0           0           0           1   \n",
       "vs10000621           1           1           1           1           1   \n",
       "vs10000627           0           0           0           0           0   \n",
       "vs10000716           1           1           1           1           1   \n",
       "vs10000743           0           0           0           0           0   \n",
       "\n",
       "            2020-01-01  2020-02-01  \n",
       "user_id                             \n",
       "vs10000005           0           0  \n",
       "vs10000621           1           1  \n",
       "vs10000627           0           0  \n",
       "vs10000716           1           1  \n",
       "vs10000743           0           0  "
      ]
     },
     "execution_count": 28,
     "metadata": {},
     "output_type": "execute_result"
    }
   ],
   "source": [
    "#统计会员用户是否回购\n",
    "pivoted_purchase=pivoted_amount.applymap(lambda x:1 if x>1 else 0)\n",
    "pivoted_purchase.head()"
   ]
  },
  {
   "cell_type": "code",
   "execution_count": 29,
   "metadata": {},
   "outputs": [],
   "source": [
    "def purchase_return(data):\n",
    "         status = []\n",
    "         for i in range(11):\n",
    "             if data[i] >= 1:\n",
    "                 if data[i + 1] >= 1:\n",
    "                     status.append(1)\n",
    "                 else:\n",
    "                     status.append(0)\n",
    "             else:\n",
    "                 status.append(np.NaN)\n",
    "         status.append(np.NaN)\n",
    "         return pd.Series(status)"
   ]
  },
  {
   "cell_type": "code",
   "execution_count": 30,
   "metadata": {},
   "outputs": [
    {
     "data": {
      "text/html": [
       "<div>\n",
       "<style scoped>\n",
       "    .dataframe tbody tr th:only-of-type {\n",
       "        vertical-align: middle;\n",
       "    }\n",
       "\n",
       "    .dataframe tbody tr th {\n",
       "        vertical-align: top;\n",
       "    }\n",
       "\n",
       "    .dataframe thead th {\n",
       "        text-align: right;\n",
       "    }\n",
       "</style>\n",
       "<table border=\"1\" class=\"dataframe\">\n",
       "  <thead>\n",
       "    <tr style=\"text-align: right;\">\n",
       "      <th></th>\n",
       "      <th>2019-03-01</th>\n",
       "      <th>2019-04-01</th>\n",
       "      <th>2019-05-01</th>\n",
       "      <th>2019-06-01</th>\n",
       "      <th>2019-07-01</th>\n",
       "      <th>2019-08-01</th>\n",
       "      <th>2019-09-01</th>\n",
       "      <th>2019-10-01</th>\n",
       "      <th>2019-11-01</th>\n",
       "      <th>2019-12-01</th>\n",
       "      <th>2020-01-01</th>\n",
       "      <th>2020-02-01</th>\n",
       "    </tr>\n",
       "    <tr>\n",
       "      <th>user_id</th>\n",
       "      <th></th>\n",
       "      <th></th>\n",
       "      <th></th>\n",
       "      <th></th>\n",
       "      <th></th>\n",
       "      <th></th>\n",
       "      <th></th>\n",
       "      <th></th>\n",
       "      <th></th>\n",
       "      <th></th>\n",
       "      <th></th>\n",
       "      <th></th>\n",
       "    </tr>\n",
       "  </thead>\n",
       "  <tbody>\n",
       "    <tr>\n",
       "      <th>vs10000005</th>\n",
       "      <td>0.00</td>\n",
       "      <td>nan</td>\n",
       "      <td>0.00</td>\n",
       "      <td>nan</td>\n",
       "      <td>nan</td>\n",
       "      <td>nan</td>\n",
       "      <td>nan</td>\n",
       "      <td>nan</td>\n",
       "      <td>nan</td>\n",
       "      <td>0.00</td>\n",
       "      <td>nan</td>\n",
       "      <td>nan</td>\n",
       "    </tr>\n",
       "    <tr>\n",
       "      <th>vs10000621</th>\n",
       "      <td>1.00</td>\n",
       "      <td>1.00</td>\n",
       "      <td>1.00</td>\n",
       "      <td>1.00</td>\n",
       "      <td>1.00</td>\n",
       "      <td>1.00</td>\n",
       "      <td>1.00</td>\n",
       "      <td>1.00</td>\n",
       "      <td>1.00</td>\n",
       "      <td>1.00</td>\n",
       "      <td>1.00</td>\n",
       "      <td>nan</td>\n",
       "    </tr>\n",
       "    <tr>\n",
       "      <th>vs10000627</th>\n",
       "      <td>nan</td>\n",
       "      <td>nan</td>\n",
       "      <td>nan</td>\n",
       "      <td>nan</td>\n",
       "      <td>nan</td>\n",
       "      <td>nan</td>\n",
       "      <td>nan</td>\n",
       "      <td>nan</td>\n",
       "      <td>nan</td>\n",
       "      <td>nan</td>\n",
       "      <td>nan</td>\n",
       "      <td>nan</td>\n",
       "    </tr>\n",
       "    <tr>\n",
       "      <th>vs10000716</th>\n",
       "      <td>nan</td>\n",
       "      <td>nan</td>\n",
       "      <td>nan</td>\n",
       "      <td>nan</td>\n",
       "      <td>1.00</td>\n",
       "      <td>1.00</td>\n",
       "      <td>1.00</td>\n",
       "      <td>1.00</td>\n",
       "      <td>1.00</td>\n",
       "      <td>1.00</td>\n",
       "      <td>1.00</td>\n",
       "      <td>nan</td>\n",
       "    </tr>\n",
       "    <tr>\n",
       "      <th>vs10000743</th>\n",
       "      <td>0.00</td>\n",
       "      <td>nan</td>\n",
       "      <td>nan</td>\n",
       "      <td>nan</td>\n",
       "      <td>nan</td>\n",
       "      <td>nan</td>\n",
       "      <td>nan</td>\n",
       "      <td>nan</td>\n",
       "      <td>nan</td>\n",
       "      <td>nan</td>\n",
       "      <td>nan</td>\n",
       "      <td>nan</td>\n",
       "    </tr>\n",
       "  </tbody>\n",
       "</table>\n",
       "</div>"
      ],
      "text/plain": [
       "            2019-03-01  2019-04-01  2019-05-01  2019-06-01  2019-07-01  \\\n",
       "user_id                                                                  \n",
       "vs10000005        0.00         nan        0.00         nan         nan   \n",
       "vs10000621        1.00        1.00        1.00        1.00        1.00   \n",
       "vs10000627         nan         nan         nan         nan         nan   \n",
       "vs10000716         nan         nan         nan         nan        1.00   \n",
       "vs10000743        0.00         nan         nan         nan         nan   \n",
       "\n",
       "            2019-08-01  2019-09-01  2019-10-01  2019-11-01  2019-12-01  \\\n",
       "user_id                                                                  \n",
       "vs10000005         nan         nan         nan         nan        0.00   \n",
       "vs10000621        1.00        1.00        1.00        1.00        1.00   \n",
       "vs10000627         nan         nan         nan         nan         nan   \n",
       "vs10000716        1.00        1.00        1.00        1.00        1.00   \n",
       "vs10000743         nan         nan         nan         nan         nan   \n",
       "\n",
       "            2020-01-01  2020-02-01  \n",
       "user_id                             \n",
       "vs10000005         nan         nan  \n",
       "vs10000621        1.00         nan  \n",
       "vs10000627         nan         nan  \n",
       "vs10000716        1.00         nan  \n",
       "vs10000743         nan         nan  "
      ]
     },
     "execution_count": 30,
     "metadata": {},
     "output_type": "execute_result"
    }
   ],
   "source": [
    "pivoted_purchase_return = pivoted_purchase.apply(purchase_return,axis=1)\n",
    "pivoted_purchase_return.columns=columns_month\n",
    "pivoted_purchase_return .head()"
   ]
  },
  {
   "cell_type": "code",
   "execution_count": 31,
   "metadata": {},
   "outputs": [
    {
     "data": {
      "text/plain": [
       "(array([737119., 737150., 737180., 737211., 737241., 737272., 737303.,\n",
       "        737333., 737364., 737394., 737425.]),\n",
       " <a list of 11 Text xticklabel objects>)"
      ]
     },
     "execution_count": 31,
     "metadata": {},
     "output_type": "execute_result"
    },
    {
     "data": {
      "image/png": "[encoded data removed]",
      "text/plain": [
       "<Figure size 432x288 with 1 Axes>"
      ]
     },
     "metadata": {},
     "output_type": "display_data"
    }
   ],
   "source": [
    "pivoted_purchase_return_rate=pivoted_purchase_return.sum()/pivoted_purchase_return.count()\n",
    "plt.plot(pivoted_purchase_return_rate)\n",
    "plt.title('12个月内用户回购率图')\n",
    "plt.xlabel('时间(月)')\n",
    "plt.ylabel('百分比')\n",
    "plt.xticks(rotation=90)"
   ]
  },
  {
   "cell_type": "code",
   "execution_count": 32,
   "metadata": {},
   "outputs": [
    {
     "data": {
      "text/plain": [
       "Text(0, 0.5, '用户数')"
      ]
     },
     "execution_count": 32,
     "metadata": {},
     "output_type": "execute_result"
    },
    {
     "data": {
      "image/png": "[encoded data removed]",
      "text/plain": [
       "<Figure size 720x432 with 1 Axes>"
      ]
     },
     "metadata": {},
     "output_type": "display_data"
    }
   ],
   "source": [
    "a,b=plt.subplots(figsize=(10,6))\n",
    "b.plot(pivoted_purchase_return.count())\n",
    "b.plot(pivoted_purchase_return.sum())\n",
    "legends=['每月消费人数','每月回购人数']\n",
    "b.legend(legends)\n",
    "plt.title('每月消费和每月回购人数')\n",
    "plt.xlabel('时间(月)')\n",
    "plt.ylabel('用户数')"
   ]
  },
  {
   "cell_type": "code",
   "execution_count": 33,
   "metadata": {},
   "outputs": [
    {
     "data": {
      "text/plain": [
       "Text(0, 0.5, '百分比')"
      ]
     },
     "execution_count": 33,
     "metadata": {},
     "output_type": "execute_result"
    },
    {
     "data": {
      "image/png": "[encoded data removed]",
      "text/plain": [
       "<Figure size 720x432 with 1 Axes>"
      ]
     },
     "metadata": {},
     "output_type": "display_data"
    }
   ],
   "source": [
    "a,b=plt.subplots(figsize=(10,6))\n",
    "b.plot(pivoted_purchase_return_rate)\n",
    "b.plot(month_counts_reorder_rate)\n",
    "legends=['每月回购率','每月复购率']\n",
    "b.legend(legends)\n",
    "plt.title('每月回购率和每月复购率')\n",
    "plt.xlabel('时间(月)')\n",
    "plt.ylabel('百分比')"
   ]
  },
  {
   "cell_type": "markdown",
   "metadata": {},
   "source": [
    "说明：大体上，每月用户的复购率高于回购率，波动性也较强。新用户的回购率在30%左右，和老客差异不大。"
   ]
  },
  {
   "cell_type": "markdown",
   "metadata": {},
   "source": [
    "# 数据分析-用户行为中层分析"
   ]
  },
  {
   "cell_type": "markdown",
   "metadata": {},
   "source": [
    "## RFM分层"
   ]
  },
  {
   "cell_type": "code",
   "execution_count": 34,
   "metadata": {},
   "outputs": [
    {
     "data": {
      "text/html": [
       "<div>\n",
       "<style scoped>\n",
       "    .dataframe tbody tr th:only-of-type {\n",
       "        vertical-align: middle;\n",
       "    }\n",
       "\n",
       "    .dataframe tbody tr th {\n",
       "        vertical-align: top;\n",
       "    }\n",
       "\n",
       "    .dataframe thead th {\n",
       "        text-align: right;\n",
       "    }\n",
       "</style>\n",
       "<table border=\"1\" class=\"dataframe\">\n",
       "  <thead>\n",
       "    <tr style=\"text-align: right;\">\n",
       "      <th></th>\n",
       "      <th>order_amount</th>\n",
       "      <th>order_dt</th>\n",
       "      <th>order_products</th>\n",
       "    </tr>\n",
       "    <tr>\n",
       "      <th>user_id</th>\n",
       "      <th></th>\n",
       "      <th></th>\n",
       "      <th></th>\n",
       "    </tr>\n",
       "  </thead>\n",
       "  <tbody>\n",
       "    <tr>\n",
       "      <th>vs10000005</th>\n",
       "      <td>189</td>\n",
       "      <td>2019-12-27</td>\n",
       "      <td>6</td>\n",
       "    </tr>\n",
       "    <tr>\n",
       "      <th>vs10000621</th>\n",
       "      <td>5704</td>\n",
       "      <td>2020-02-28</td>\n",
       "      <td>169</td>\n",
       "    </tr>\n",
       "    <tr>\n",
       "      <th>vs10000627</th>\n",
       "      <td>0</td>\n",
       "      <td>2019-07-23</td>\n",
       "      <td>2</td>\n",
       "    </tr>\n",
       "    <tr>\n",
       "      <th>vs10000716</th>\n",
       "      <td>2616</td>\n",
       "      <td>2020-02-28</td>\n",
       "      <td>131</td>\n",
       "    </tr>\n",
       "    <tr>\n",
       "      <th>vs10000743</th>\n",
       "      <td>20</td>\n",
       "      <td>2019-03-15</td>\n",
       "      <td>1</td>\n",
       "    </tr>\n",
       "  </tbody>\n",
       "</table>\n",
       "</div>"
      ],
      "text/plain": [
       "            order_amount    order_dt  order_products\n",
       "user_id                                             \n",
       "vs10000005           189  2019-12-27               6\n",
       "vs10000621          5704  2020-02-28             169\n",
       "vs10000627             0  2019-07-23               2\n",
       "vs10000716          2616  2020-02-28             131\n",
       "vs10000743            20  2019-03-15               1"
      ]
     },
     "execution_count": 34,
     "metadata": {},
     "output_type": "execute_result"
    }
   ],
   "source": [
    "user_rfm=df.pivot_table(index='user_id',values=['order_dt','order_products','order_amount'],aggfunc={'order_dt':'max','order_products':'count','order_amount':'sum'})\n",
    "user_rfm.head()"
   ]
  },
  {
   "cell_type": "code",
   "execution_count": 35,
   "metadata": {},
   "outputs": [
    {
     "data": {
      "text/html": [
       "<div>\n",
       "<style scoped>\n",
       "    .dataframe tbody tr th:only-of-type {\n",
       "        vertical-align: middle;\n",
       "    }\n",
       "\n",
       "    .dataframe tbody tr th {\n",
       "        vertical-align: top;\n",
       "    }\n",
       "\n",
       "    .dataframe thead th {\n",
       "        text-align: right;\n",
       "    }\n",
       "</style>\n",
       "<table border=\"1\" class=\"dataframe\">\n",
       "  <thead>\n",
       "    <tr style=\"text-align: right;\">\n",
       "      <th></th>\n",
       "      <th>M</th>\n",
       "      <th>order_dt</th>\n",
       "      <th>F</th>\n",
       "      <th>R</th>\n",
       "    </tr>\n",
       "    <tr>\n",
       "      <th>user_id</th>\n",
       "      <th></th>\n",
       "      <th></th>\n",
       "      <th></th>\n",
       "      <th></th>\n",
       "    </tr>\n",
       "  </thead>\n",
       "  <tbody>\n",
       "    <tr>\n",
       "      <th>vs10000005</th>\n",
       "      <td>189</td>\n",
       "      <td>2019-12-27</td>\n",
       "      <td>6</td>\n",
       "      <td>63.00</td>\n",
       "    </tr>\n",
       "    <tr>\n",
       "      <th>vs10000621</th>\n",
       "      <td>5704</td>\n",
       "      <td>2020-02-28</td>\n",
       "      <td>169</td>\n",
       "      <td>0.00</td>\n",
       "    </tr>\n",
       "    <tr>\n",
       "      <th>vs10000627</th>\n",
       "      <td>0</td>\n",
       "      <td>2019-07-23</td>\n",
       "      <td>2</td>\n",
       "      <td>220.00</td>\n",
       "    </tr>\n",
       "    <tr>\n",
       "      <th>vs10000716</th>\n",
       "      <td>2616</td>\n",
       "      <td>2020-02-28</td>\n",
       "      <td>131</td>\n",
       "      <td>0.00</td>\n",
       "    </tr>\n",
       "    <tr>\n",
       "      <th>vs10000743</th>\n",
       "      <td>20</td>\n",
       "      <td>2019-03-15</td>\n",
       "      <td>1</td>\n",
       "      <td>350.00</td>\n",
       "    </tr>\n",
       "  </tbody>\n",
       "</table>\n",
       "</div>"
      ],
      "text/plain": [
       "               M    order_dt    F      R\n",
       "user_id                                 \n",
       "vs10000005   189  2019-12-27    6  63.00\n",
       "vs10000621  5704  2020-02-28  169   0.00\n",
       "vs10000627     0  2019-07-23    2 220.00\n",
       "vs10000716  2616  2020-02-28  131   0.00\n",
       "vs10000743    20  2019-03-15    1 350.00"
      ]
     },
     "execution_count": 35,
     "metadata": {},
     "output_type": "execute_result"
    }
   ],
   "source": [
    "user_rfm['period']=(user_rfm.order_dt.max()-user_rfm.order_dt)/np.timedelta64(1,'D')\n",
    "user_rfm=user_rfm.rename(columns={'period':'R','order_products':'F','order_amount':'M'})\n",
    "user_rfm.head()"
   ]
  },
  {
   "cell_type": "code",
   "execution_count": 36,
   "metadata": {},
   "outputs": [
    {
     "data": {
      "text/html": [
       "<div>\n",
       "<style scoped>\n",
       "    .dataframe tbody tr th:only-of-type {\n",
       "        vertical-align: middle;\n",
       "    }\n",
       "\n",
       "    .dataframe tbody tr th {\n",
       "        vertical-align: top;\n",
       "    }\n",
       "\n",
       "    .dataframe thead th {\n",
       "        text-align: right;\n",
       "    }\n",
       "</style>\n",
       "<table border=\"1\" class=\"dataframe\">\n",
       "  <thead>\n",
       "    <tr style=\"text-align: right;\">\n",
       "      <th></th>\n",
       "      <th>M</th>\n",
       "      <th>order_dt</th>\n",
       "      <th>F</th>\n",
       "      <th>R</th>\n",
       "      <th>label</th>\n",
       "    </tr>\n",
       "    <tr>\n",
       "      <th>user_id</th>\n",
       "      <th></th>\n",
       "      <th></th>\n",
       "      <th></th>\n",
       "      <th></th>\n",
       "      <th></th>\n",
       "    </tr>\n",
       "  </thead>\n",
       "  <tbody>\n",
       "    <tr>\n",
       "      <th>vs10000005</th>\n",
       "      <td>189</td>\n",
       "      <td>2019-12-27</td>\n",
       "      <td>6</td>\n",
       "      <td>63.00</td>\n",
       "      <td>重点挽留客户</td>\n",
       "    </tr>\n",
       "    <tr>\n",
       "      <th>vs10000621</th>\n",
       "      <td>5704</td>\n",
       "      <td>2020-02-28</td>\n",
       "      <td>169</td>\n",
       "      <td>0.00</td>\n",
       "      <td>重点保持客户</td>\n",
       "    </tr>\n",
       "    <tr>\n",
       "      <th>vs10000627</th>\n",
       "      <td>0</td>\n",
       "      <td>2019-07-23</td>\n",
       "      <td>2</td>\n",
       "      <td>220.00</td>\n",
       "      <td>一般发展客户</td>\n",
       "    </tr>\n",
       "    <tr>\n",
       "      <th>vs10000716</th>\n",
       "      <td>2616</td>\n",
       "      <td>2020-02-28</td>\n",
       "      <td>131</td>\n",
       "      <td>0.00</td>\n",
       "      <td>重点保持客户</td>\n",
       "    </tr>\n",
       "    <tr>\n",
       "      <th>vs10000743</th>\n",
       "      <td>20</td>\n",
       "      <td>2019-03-15</td>\n",
       "      <td>1</td>\n",
       "      <td>350.00</td>\n",
       "      <td>一般发展客户</td>\n",
       "    </tr>\n",
       "  </tbody>\n",
       "</table>\n",
       "</div>"
      ],
      "text/plain": [
       "               M    order_dt    F      R   label\n",
       "user_id                                         \n",
       "vs10000005   189  2019-12-27    6  63.00  重点挽留客户\n",
       "vs10000621  5704  2020-02-28  169   0.00  重点保持客户\n",
       "vs10000627     0  2019-07-23    2 220.00  一般发展客户\n",
       "vs10000716  2616  2020-02-28  131   0.00  重点保持客户\n",
       "vs10000743    20  2019-03-15    1 350.00  一般发展客户"
      ]
     },
     "execution_count": 36,
     "metadata": {},
     "output_type": "execute_result"
    }
   ],
   "source": [
    "#定义分层函数\n",
    "def rfm_func(x):\n",
    "    level=x.apply(lambda x:'1' if x>=0 else '0')\n",
    "    label=level.R+level.F+level.M\n",
    "    d={'111':'高价值客户','011':'重点保持客户',\n",
    "       '101':'重点发展客户','001':'重点挽留客户',\n",
    "      '110':'一般价值客户','010':'一般保持客户',\n",
    "     '100':'一般发展客户','000':'潜在客户'}\n",
    "    result=d[label]\n",
    "    return result\n",
    "user_rfm['label']=user_rfm[['R','F','M']].apply( lambda x:x-x.mean()).apply(rfm_func,axis=1)\n",
    "user_rfm.head()"
   ]
  },
  {
   "cell_type": "code",
   "execution_count": 37,
   "metadata": {},
   "outputs": [
    {
     "data": {
      "text/html": [
       "<div>\n",
       "<style scoped>\n",
       "    .dataframe tbody tr th:only-of-type {\n",
       "        vertical-align: middle;\n",
       "    }\n",
       "\n",
       "    .dataframe tbody tr th {\n",
       "        vertical-align: top;\n",
       "    }\n",
       "\n",
       "    .dataframe thead th {\n",
       "        text-align: right;\n",
       "    }\n",
       "</style>\n",
       "<table border=\"1\" class=\"dataframe\">\n",
       "  <thead>\n",
       "    <tr style=\"text-align: right;\">\n",
       "      <th></th>\n",
       "      <th>M</th>\n",
       "      <th>order_dt</th>\n",
       "      <th>F</th>\n",
       "      <th>R</th>\n",
       "    </tr>\n",
       "    <tr>\n",
       "      <th>label</th>\n",
       "      <th></th>\n",
       "      <th></th>\n",
       "      <th></th>\n",
       "      <th></th>\n",
       "    </tr>\n",
       "  </thead>\n",
       "  <tbody>\n",
       "    <tr>\n",
       "      <th>一般保持客户</th>\n",
       "      <td>3</td>\n",
       "      <td>3</td>\n",
       "      <td>3</td>\n",
       "      <td>3</td>\n",
       "    </tr>\n",
       "    <tr>\n",
       "      <th>一般发展客户</th>\n",
       "      <td>146</td>\n",
       "      <td>146</td>\n",
       "      <td>146</td>\n",
       "      <td>146</td>\n",
       "    </tr>\n",
       "    <tr>\n",
       "      <th>潜在客户</th>\n",
       "      <td>63</td>\n",
       "      <td>63</td>\n",
       "      <td>63</td>\n",
       "      <td>63</td>\n",
       "    </tr>\n",
       "    <tr>\n",
       "      <th>重点保持客户</th>\n",
       "      <td>24</td>\n",
       "      <td>24</td>\n",
       "      <td>24</td>\n",
       "      <td>24</td>\n",
       "    </tr>\n",
       "    <tr>\n",
       "      <th>重点发展客户</th>\n",
       "      <td>2</td>\n",
       "      <td>2</td>\n",
       "      <td>2</td>\n",
       "      <td>2</td>\n",
       "    </tr>\n",
       "    <tr>\n",
       "      <th>重点挽留客户</th>\n",
       "      <td>2</td>\n",
       "      <td>2</td>\n",
       "      <td>2</td>\n",
       "      <td>2</td>\n",
       "    </tr>\n",
       "    <tr>\n",
       "      <th>高价值客户</th>\n",
       "      <td>7</td>\n",
       "      <td>7</td>\n",
       "      <td>7</td>\n",
       "      <td>7</td>\n",
       "    </tr>\n",
       "  </tbody>\n",
       "</table>\n",
       "</div>"
      ],
      "text/plain": [
       "          M  order_dt    F    R\n",
       "label                          \n",
       "一般保持客户    3         3    3    3\n",
       "一般发展客户  146       146  146  146\n",
       "潜在客户     63        63   63   63\n",
       "重点保持客户   24        24   24   24\n",
       "重点发展客户    2         2    2    2\n",
       "重点挽留客户    2         2    2    2\n",
       "高价值客户     7         7    7    7"
      ]
     },
     "execution_count": 37,
     "metadata": {},
     "output_type": "execute_result"
    }
   ],
   "source": [
    "user_rfm.groupby('label').count()"
   ]
  },
  {
   "cell_type": "code",
   "execution_count": 38,
   "metadata": {},
   "outputs": [
    {
     "data": {
      "text/html": [
       "<div>\n",
       "<style scoped>\n",
       "    .dataframe tbody tr th:only-of-type {\n",
       "        vertical-align: middle;\n",
       "    }\n",
       "\n",
       "    .dataframe tbody tr th {\n",
       "        vertical-align: top;\n",
       "    }\n",
       "\n",
       "    .dataframe thead th {\n",
       "        text-align: right;\n",
       "    }\n",
       "</style>\n",
       "<table border=\"1\" class=\"dataframe\">\n",
       "  <thead>\n",
       "    <tr style=\"text-align: right;\">\n",
       "      <th></th>\n",
       "      <th>M</th>\n",
       "      <th>F</th>\n",
       "      <th>R</th>\n",
       "    </tr>\n",
       "    <tr>\n",
       "      <th>label</th>\n",
       "      <th></th>\n",
       "      <th></th>\n",
       "      <th></th>\n",
       "    </tr>\n",
       "  </thead>\n",
       "  <tbody>\n",
       "    <tr>\n",
       "      <th>一般保持客户</th>\n",
       "      <td>352</td>\n",
       "      <td>34</td>\n",
       "      <td>98.00</td>\n",
       "    </tr>\n",
       "    <tr>\n",
       "      <th>一般发展客户</th>\n",
       "      <td>2653</td>\n",
       "      <td>272</td>\n",
       "      <td>28793.00</td>\n",
       "    </tr>\n",
       "    <tr>\n",
       "      <th>潜在客户</th>\n",
       "      <td>1723</td>\n",
       "      <td>125</td>\n",
       "      <td>6377.00</td>\n",
       "    </tr>\n",
       "    <tr>\n",
       "      <th>重点保持客户</th>\n",
       "      <td>32494</td>\n",
       "      <td>1416</td>\n",
       "      <td>846.00</td>\n",
       "    </tr>\n",
       "    <tr>\n",
       "      <th>重点发展客户</th>\n",
       "      <td>2091</td>\n",
       "      <td>5</td>\n",
       "      <td>575.00</td>\n",
       "    </tr>\n",
       "    <tr>\n",
       "      <th>重点挽留客户</th>\n",
       "      <td>2919</td>\n",
       "      <td>9</td>\n",
       "      <td>165.00</td>\n",
       "    </tr>\n",
       "    <tr>\n",
       "      <th>高价值客户</th>\n",
       "      <td>3856</td>\n",
       "      <td>152</td>\n",
       "      <td>1429.00</td>\n",
       "    </tr>\n",
       "  </tbody>\n",
       "</table>\n",
       "</div>"
      ],
      "text/plain": [
       "            M     F        R\n",
       "label                       \n",
       "一般保持客户    352    34    98.00\n",
       "一般发展客户   2653   272 28793.00\n",
       "潜在客户     1723   125  6377.00\n",
       "重点保持客户  32494  1416   846.00\n",
       "重点发展客户   2091     5   575.00\n",
       "重点挽留客户   2919     9   165.00\n",
       "高价值客户    3856   152  1429.00"
      ]
     },
     "execution_count": 38,
     "metadata": {},
     "output_type": "execute_result"
    }
   ],
   "source": [
    "user_rfm.groupby('label').sum()"
   ]
  },
  {
   "cell_type": "code",
   "execution_count": 39,
   "metadata": {},
   "outputs": [
    {
     "data": {
      "image/png": "[encoded data removed]",
      "text/plain": [
       "<Figure size 720x432 with 2 Axes>"
      ]
     },
     "metadata": {},
     "output_type": "display_data"
    }
   ],
   "source": [
    "from matplotlib import font_manager as fm #字体管理器\n",
    "from matplotlib import cm#\n",
    "proptease = fm.FontProperties()\n",
    "proptease.set_size('medium')\n",
    "\n",
    "labelindex =user_rfm.groupby('label').count().index\n",
    "labelvalues =user_rfm.groupby('label')['M'].count().tolist()\n",
    "s = pd.Series(labelvalues, index=labelindex )\n",
    "labels = s.index\n",
    "sizes = s.values\n",
    "\n",
    "explode = (0,0,0,0,0.1,0.1,0.2)  # only \"explode\" the 1st slice\n",
    "fig, axes = plt.subplots(1,2,figsize=(10,6))\n",
    "ax1,ax2 = axes.ravel()#结合ravel()函数列出所有子图\n",
    "\n",
    "colors = cm.rainbow(np.arange(len(sizes))/len(sizes))# # 随机生成颜色\n",
    "# patches：饼片。texts：分类标签的文本列表。autotexts：百分比部分的文本列表\n",
    "patches, texts, autotexts = ax1.pie(sizes, labels=labels, autopct='%1.0f%%',explode=explode,\n",
    "shadow=False, startangle=170, colors=colors, labeldistance=1.2,pctdistance=1.05, radius=0.4)\n",
    "ax1.axis('equal')#将饼图显示为正圆形\n",
    "plt.setp(texts, fontproperties=proptease)\n",
    "\n",
    "# 设置百分比文本样式\n",
    "for i in autotexts:\n",
    "    i.set_size('large')\n",
    "ax1.set_title('用户分层结构饼状图', loc='center')\n",
    "ax2.axis('off')#关闭所有坐标轴线、刻度标记和标签\n",
    "ax2.legend(patches, labels, loc='center left',fontsize=10)\n",
    "plt.tight_layout()#tight_layout会自动调整子图参数，使之填充整个图像区域"
   ]
  },
  {
   "cell_type": "markdown",
   "metadata": {},
   "source": [
    "分析：从用户分层结果可知，一般发展客户占了较大的比重，为59%，潜在客户排第二位，占比26%。"
   ]
  },
  {
   "cell_type": "markdown",
   "metadata": {},
   "source": [
    "## 总分层分析"
   ]
  },
  {
   "cell_type": "code",
   "execution_count": 40,
   "metadata": {},
   "outputs": [
    {
     "data": {
      "text/html": [
       "<div>\n",
       "<style scoped>\n",
       "    .dataframe tbody tr th:only-of-type {\n",
       "        vertical-align: middle;\n",
       "    }\n",
       "\n",
       "    .dataframe tbody tr th {\n",
       "        vertical-align: top;\n",
       "    }\n",
       "\n",
       "    .dataframe thead th {\n",
       "        text-align: right;\n",
       "    }\n",
       "</style>\n",
       "<table border=\"1\" class=\"dataframe\">\n",
       "  <thead>\n",
       "    <tr style=\"text-align: right;\">\n",
       "      <th></th>\n",
       "      <th>2019-03-01</th>\n",
       "      <th>2019-04-01</th>\n",
       "      <th>2019-05-01</th>\n",
       "      <th>2019-06-01</th>\n",
       "      <th>2019-07-01</th>\n",
       "      <th>2019-08-01</th>\n",
       "      <th>2019-09-01</th>\n",
       "      <th>2019-10-01</th>\n",
       "      <th>2019-11-01</th>\n",
       "      <th>2019-12-01</th>\n",
       "      <th>2020-01-01</th>\n",
       "      <th>2020-02-01</th>\n",
       "    </tr>\n",
       "    <tr>\n",
       "      <th>user_id</th>\n",
       "      <th></th>\n",
       "      <th></th>\n",
       "      <th></th>\n",
       "      <th></th>\n",
       "      <th></th>\n",
       "      <th></th>\n",
       "      <th></th>\n",
       "      <th></th>\n",
       "      <th></th>\n",
       "      <th></th>\n",
       "      <th></th>\n",
       "      <th></th>\n",
       "    </tr>\n",
       "  </thead>\n",
       "  <tbody>\n",
       "    <tr>\n",
       "      <th>vs10000005</th>\n",
       "      <td>new</td>\n",
       "      <td>unactive</td>\n",
       "      <td>return</td>\n",
       "      <td>unactive</td>\n",
       "      <td>unactive</td>\n",
       "      <td>unactive</td>\n",
       "      <td>unactive</td>\n",
       "      <td>unactive</td>\n",
       "      <td>unactive</td>\n",
       "      <td>return</td>\n",
       "      <td>unactive</td>\n",
       "      <td>unactive</td>\n",
       "    </tr>\n",
       "    <tr>\n",
       "      <th>vs10000621</th>\n",
       "      <td>new</td>\n",
       "      <td>active</td>\n",
       "      <td>active</td>\n",
       "      <td>active</td>\n",
       "      <td>active</td>\n",
       "      <td>active</td>\n",
       "      <td>active</td>\n",
       "      <td>active</td>\n",
       "      <td>active</td>\n",
       "      <td>active</td>\n",
       "      <td>active</td>\n",
       "      <td>active</td>\n",
       "    </tr>\n",
       "    <tr>\n",
       "      <th>vs10000627</th>\n",
       "      <td>unreg</td>\n",
       "      <td>unreg</td>\n",
       "      <td>unreg</td>\n",
       "      <td>unreg</td>\n",
       "      <td>unreg</td>\n",
       "      <td>unreg</td>\n",
       "      <td>unreg</td>\n",
       "      <td>unreg</td>\n",
       "      <td>unreg</td>\n",
       "      <td>unreg</td>\n",
       "      <td>unreg</td>\n",
       "      <td>unreg</td>\n",
       "    </tr>\n",
       "    <tr>\n",
       "      <th>vs10000716</th>\n",
       "      <td>unreg</td>\n",
       "      <td>unreg</td>\n",
       "      <td>unreg</td>\n",
       "      <td>unreg</td>\n",
       "      <td>new</td>\n",
       "      <td>active</td>\n",
       "      <td>active</td>\n",
       "      <td>active</td>\n",
       "      <td>active</td>\n",
       "      <td>active</td>\n",
       "      <td>active</td>\n",
       "      <td>active</td>\n",
       "    </tr>\n",
       "    <tr>\n",
       "      <th>vs10000743</th>\n",
       "      <td>new</td>\n",
       "      <td>unactive</td>\n",
       "      <td>unactive</td>\n",
       "      <td>unactive</td>\n",
       "      <td>unactive</td>\n",
       "      <td>unactive</td>\n",
       "      <td>unactive</td>\n",
       "      <td>unactive</td>\n",
       "      <td>unactive</td>\n",
       "      <td>unactive</td>\n",
       "      <td>unactive</td>\n",
       "      <td>unactive</td>\n",
       "    </tr>\n",
       "  </tbody>\n",
       "</table>\n",
       "</div>"
      ],
      "text/plain": [
       "           2019-03-01 2019-04-01 2019-05-01 2019-06-01 2019-07-01 2019-08-01  \\\n",
       "user_id                                                                        \n",
       "vs10000005        new   unactive     return   unactive   unactive   unactive   \n",
       "vs10000621        new     active     active     active     active     active   \n",
       "vs10000627      unreg      unreg      unreg      unreg      unreg      unreg   \n",
       "vs10000716      unreg      unreg      unreg      unreg        new     active   \n",
       "vs10000743        new   unactive   unactive   unactive   unactive   unactive   \n",
       "\n",
       "           2019-09-01 2019-10-01 2019-11-01 2019-12-01 2020-01-01 2020-02-01  \n",
       "user_id                                                                       \n",
       "vs10000005   unactive   unactive   unactive     return   unactive   unactive  \n",
       "vs10000621     active     active     active     active     active     active  \n",
       "vs10000627      unreg      unreg      unreg      unreg      unreg      unreg  \n",
       "vs10000716     active     active     active     active     active     active  \n",
       "vs10000743   unactive   unactive   unactive   unactive   unactive   unactive  "
      ]
     },
     "execution_count": 40,
     "metadata": {},
     "output_type": "execute_result"
    }
   ],
   "source": [
    "#按照用户的消费行为，简单划分成几个维度：新用户、活跃用户、不活跃用户、回流用户。\n",
    "#新用户(new)的定义是第一次消费。\n",
    "#活跃用户(active)即老客，在某一个时间窗口内有过消费。\n",
    "#不活跃用户(unactive)则是时间窗口内没有消费过的老客。\n",
    "#回流用户(return)是在上一个窗口中没有消费，而在当前时间窗口内有过消费。\n",
    "#以上的时间窗口都是按月统计。\n",
    "def active_status(data):\n",
    "    status = []\n",
    "    for i in range(12):\n",
    "        #若本月没有消费\n",
    "        if data[i] == 0:\n",
    "            if len(status) > 0:\n",
    "                if status[i-1] == 'unreg': #未注册\n",
    "                    status.append('unreg')\n",
    "                else:\n",
    "                    status.append('unactive')\n",
    "            else:\n",
    "                status.append('unreg')\n",
    "          #若本月有消费      \n",
    "        else:\n",
    "            if len(status) == 0:\n",
    "                status.append('new')\n",
    "            else:\n",
    "                if status[i-1] == 'unactive':\n",
    "                    status.append('return')\n",
    "                elif status[i-1] == 'unreg':\n",
    "                    status.append('new')\n",
    "                else:\n",
    "                    status.append('active')\n",
    "    return pd.Series(status)\n",
    "pivoted_purchase_status = pivoted_purchase.apply( lambda x:active_status(x),axis=1)\n",
    "pivoted_purchase_status.columns=columns_month\n",
    "pivoted_purchase_status .head()"
   ]
  },
  {
   "cell_type": "code",
   "execution_count": 41,
   "metadata": {},
   "outputs": [
    {
     "data": {
      "text/html": [
       "<div>\n",
       "<style scoped>\n",
       "    .dataframe tbody tr th:only-of-type {\n",
       "        vertical-align: middle;\n",
       "    }\n",
       "\n",
       "    .dataframe tbody tr th {\n",
       "        vertical-align: top;\n",
       "    }\n",
       "\n",
       "    .dataframe thead th {\n",
       "        text-align: right;\n",
       "    }\n",
       "</style>\n",
       "<table border=\"1\" class=\"dataframe\">\n",
       "  <thead>\n",
       "    <tr style=\"text-align: right;\">\n",
       "      <th></th>\n",
       "      <th>2019-03-01</th>\n",
       "      <th>2019-04-01</th>\n",
       "      <th>2019-05-01</th>\n",
       "      <th>2019-06-01</th>\n",
       "      <th>2019-07-01</th>\n",
       "      <th>2019-08-01</th>\n",
       "      <th>2019-09-01</th>\n",
       "      <th>2019-10-01</th>\n",
       "      <th>2019-11-01</th>\n",
       "      <th>2019-12-01</th>\n",
       "      <th>2020-01-01</th>\n",
       "      <th>2020-02-01</th>\n",
       "    </tr>\n",
       "  </thead>\n",
       "  <tbody>\n",
       "    <tr>\n",
       "      <th>active</th>\n",
       "      <td>nan</td>\n",
       "      <td>7.00</td>\n",
       "      <td>9</td>\n",
       "      <td>16.00</td>\n",
       "      <td>20.00</td>\n",
       "      <td>18.00</td>\n",
       "      <td>11</td>\n",
       "      <td>12</td>\n",
       "      <td>15</td>\n",
       "      <td>14</td>\n",
       "      <td>16</td>\n",
       "      <td>10</td>\n",
       "    </tr>\n",
       "    <tr>\n",
       "      <th>new</th>\n",
       "      <td>13.00</td>\n",
       "      <td>2.00</td>\n",
       "      <td>8</td>\n",
       "      <td>9.00</td>\n",
       "      <td>17.00</td>\n",
       "      <td>17.00</td>\n",
       "      <td>10</td>\n",
       "      <td>9</td>\n",
       "      <td>6</td>\n",
       "      <td>7</td>\n",
       "      <td>7</td>\n",
       "      <td>1</td>\n",
       "    </tr>\n",
       "    <tr>\n",
       "      <th>return</th>\n",
       "      <td>nan</td>\n",
       "      <td>nan</td>\n",
       "      <td>1</td>\n",
       "      <td>nan</td>\n",
       "      <td>nan</td>\n",
       "      <td>nan</td>\n",
       "      <td>4</td>\n",
       "      <td>5</td>\n",
       "      <td>1</td>\n",
       "      <td>4</td>\n",
       "      <td>2</td>\n",
       "      <td>3</td>\n",
       "    </tr>\n",
       "    <tr>\n",
       "      <th>unactive</th>\n",
       "      <td>nan</td>\n",
       "      <td>6.00</td>\n",
       "      <td>5</td>\n",
       "      <td>7.00</td>\n",
       "      <td>12.00</td>\n",
       "      <td>31.00</td>\n",
       "      <td>51</td>\n",
       "      <td>59</td>\n",
       "      <td>69</td>\n",
       "      <td>73</td>\n",
       "      <td>80</td>\n",
       "      <td>92</td>\n",
       "    </tr>\n",
       "  </tbody>\n",
       "</table>\n",
       "</div>"
      ],
      "text/plain": [
       "          2019-03-01  2019-04-01  2019-05-01  2019-06-01  2019-07-01  \\\n",
       "active           nan        7.00           9       16.00       20.00   \n",
       "new            13.00        2.00           8        9.00       17.00   \n",
       "return           nan         nan           1         nan         nan   \n",
       "unactive         nan        6.00           5        7.00       12.00   \n",
       "\n",
       "          2019-08-01  2019-09-01  2019-10-01  2019-11-01  2019-12-01  \\\n",
       "active         18.00          11          12          15          14   \n",
       "new            17.00          10           9           6           7   \n",
       "return           nan           4           5           1           4   \n",
       "unactive       31.00          51          59          69          73   \n",
       "\n",
       "          2020-01-01  2020-02-01  \n",
       "active            16          10  \n",
       "new                7           1  \n",
       "return             2           3  \n",
       "unactive          80          92  "
      ]
     },
     "execution_count": 41,
     "metadata": {},
     "output_type": "execute_result"
    }
   ],
   "source": [
    "pivoted_status_counts=pivoted_purchase_status.replace('unreg',np.NaN).apply(lambda x:pd.value_counts(x))\n",
    "pivoted_status_counts"
   ]
  },
  {
   "cell_type": "code",
   "execution_count": 42,
   "metadata": {},
   "outputs": [
    {
     "data": {
      "text/plain": [
       "Text(0, 0.5, '用户数')"
      ]
     },
     "execution_count": 42,
     "metadata": {},
     "output_type": "execute_result"
    },
    {
     "data": {
      "image/png": "[encoded data removed]",
      "text/plain": [
       "<Figure size 432x288 with 1 Axes>"
      ]
     },
     "metadata": {},
     "output_type": "display_data"
    }
   ],
   "source": [
    "plt.plot(pivoted_status_counts.T)\n",
    "plt.title('每月各种用户类型占比拆线图')\n",
    "plt.legend(pivoted_status_counts.index)\n",
    "plt.xlabel('时间(月)')\n",
    "plt.ylabel('用户数')"
   ]
  },
  {
   "cell_type": "markdown",
   "metadata": {},
   "source": [
    "分析：黑色的不活跃用户占了较大的比重。红色的活跃用户较稳定，其与紫色的回流用户相加大抵是本月消费人数。"
   ]
  },
  {
   "cell_type": "markdown",
   "metadata": {},
   "source": [
    "## 回流用户及活跃用户分析"
   ]
  },
  {
   "cell_type": "code",
   "execution_count": 43,
   "metadata": {},
   "outputs": [
    {
     "data": {
      "text/plain": [
       "(array([737150., 737180., 737211., 737241., 737272., 737303., 737333.,\n",
       "        737364., 737394., 737425., 737456.]),\n",
       " <a list of 11 Text xticklabel objects>)"
      ]
     },
     "execution_count": 43,
     "metadata": {},
     "output_type": "execute_result"
    },
    {
     "data": {
      "image/png": "[encoded data removed]",
      "text/plain": [
       "<Figure size 432x288 with 1 Axes>"
      ]
     },
     "metadata": {},
     "output_type": "display_data"
    }
   ],
   "source": [
    "return_rate=pivoted_status_counts.apply(lambda x:x/x.sum(),axis=1)\n",
    "plt.plot(return_rate.loc[['active','return'],].T)\n",
    "plt.title('每月活跃用户、回流用户占比')\n",
    "plt.xlabel('时间(月)')\n",
    "plt.ylabel('百分数')\n",
    "plt.xticks(rotation=90)"
   ]
  },
  {
   "cell_type": "markdown",
   "metadata": {},
   "source": [
    "说明：结合回流用户和活跃用户看，在后期的消费用户中，70%是回流用户，30%是活跃用户，整体质量还好。"
   ]
  },
  {
   "cell_type": "markdown",
   "metadata": {},
   "source": [
    "# 数据分析-用户质量分析"
   ]
  },
  {
   "cell_type": "markdown",
   "metadata": {},
   "source": [
    "## 总质量分析"
   ]
  },
  {
   "cell_type": "code",
   "execution_count": 44,
   "metadata": {},
   "outputs": [
    {
     "data": {
      "text/html": [
       "<div>\n",
       "<style scoped>\n",
       "    .dataframe tbody tr th:only-of-type {\n",
       "        vertical-align: middle;\n",
       "    }\n",
       "\n",
       "    .dataframe tbody tr th {\n",
       "        vertical-align: top;\n",
       "    }\n",
       "\n",
       "    .dataframe thead th {\n",
       "        text-align: right;\n",
       "    }\n",
       "</style>\n",
       "<table border=\"1\" class=\"dataframe\">\n",
       "  <thead>\n",
       "    <tr style=\"text-align: right;\">\n",
       "      <th></th>\n",
       "      <th>user_id</th>\n",
       "      <th>order_amount</th>\n",
       "      <th>amount_cumsum</th>\n",
       "    </tr>\n",
       "  </thead>\n",
       "  <tbody>\n",
       "    <tr>\n",
       "      <th>242</th>\n",
       "      <td>vs10000716</td>\n",
       "      <td>2616</td>\n",
       "      <td>29735</td>\n",
       "    </tr>\n",
       "    <tr>\n",
       "      <th>243</th>\n",
       "      <td>vs10000775</td>\n",
       "      <td>2730</td>\n",
       "      <td>32465</td>\n",
       "    </tr>\n",
       "    <tr>\n",
       "      <th>244</th>\n",
       "      <td>vs30026748</td>\n",
       "      <td>3296</td>\n",
       "      <td>35761</td>\n",
       "    </tr>\n",
       "    <tr>\n",
       "      <th>245</th>\n",
       "      <td>vs30029475</td>\n",
       "      <td>4623</td>\n",
       "      <td>40384</td>\n",
       "    </tr>\n",
       "    <tr>\n",
       "      <th>246</th>\n",
       "      <td>vs10000621</td>\n",
       "      <td>5704</td>\n",
       "      <td>46088</td>\n",
       "    </tr>\n",
       "  </tbody>\n",
       "</table>\n",
       "</div>"
      ],
      "text/plain": [
       "        user_id  order_amount  amount_cumsum\n",
       "242  vs10000716          2616          29735\n",
       "243  vs10000775          2730          32465\n",
       "244  vs30026748          3296          35761\n",
       "245  vs30029475          4623          40384\n",
       "246  vs10000621          5704          46088"
      ]
     },
     "execution_count": 44,
     "metadata": {},
     "output_type": "execute_result"
    }
   ],
   "source": [
    "user_amount=df.groupby('user_id').order_amount.sum().sort_values().reset_index()\n",
    "user_amount['amount_cumsum']=user_amount.order_amount.cumsum()\n",
    "user_amount.tail()"
   ]
  },
  {
   "cell_type": "code",
   "execution_count": 45,
   "metadata": {},
   "outputs": [
    {
     "data": {
      "text/plain": [
       "Text(0, 0.5, '百分数')"
      ]
     },
     "execution_count": 45,
     "metadata": {},
     "output_type": "execute_result"
    },
    {
     "data": {
      "image/png": "[encoded data removed]",
      "text/plain": [
       "<Figure size 432x288 with 1 Axes>"
      ]
     },
     "metadata": {},
     "output_type": "display_data"
    }
   ],
   "source": [
    "amount_total=user_amount.amount_cumsum.max()\n",
    "user_amount['prop'] = user_amount.amount_cumsum.apply(lambda x:x/amount_total)\n",
    "plt.plot(user_amount.prop )\n",
    "plt.title('用户累计贡献金额百分比')\n",
    "plt.xlabel('人数')\n",
    "plt.ylabel('百分数')"
   ]
  },
  {
   "cell_type": "markdown",
   "metadata": {},
   "source": [
    "说明：此次数据集用户总共247人，可见其中47人(约占总人数的19%)贡献了超过80%的销售金额。"
   ]
  },
  {
   "cell_type": "markdown",
   "metadata": {},
   "source": [
    "# 数据分析-用户生命周期分析"
   ]
  },
  {
   "cell_type": "markdown",
   "metadata": {},
   "source": [
    "## 第一生命周期"
   ]
  },
  {
   "cell_type": "code",
   "execution_count": 46,
   "metadata": {},
   "outputs": [
    {
     "data": {
      "text/html": [
       "<div>\n",
       "<style scoped>\n",
       "    .dataframe tbody tr th:only-of-type {\n",
       "        vertical-align: middle;\n",
       "    }\n",
       "\n",
       "    .dataframe tbody tr th {\n",
       "        vertical-align: top;\n",
       "    }\n",
       "\n",
       "    .dataframe thead th {\n",
       "        text-align: right;\n",
       "    }\n",
       "</style>\n",
       "<table border=\"1\" class=\"dataframe\">\n",
       "  <thead>\n",
       "    <tr style=\"text-align: right;\">\n",
       "      <th></th>\n",
       "      <th>user_id</th>\n",
       "      <th>order_dt</th>\n",
       "    </tr>\n",
       "  </thead>\n",
       "  <tbody>\n",
       "    <tr>\n",
       "      <th>0</th>\n",
       "      <td>vs10000005</td>\n",
       "      <td>273 days</td>\n",
       "    </tr>\n",
       "    <tr>\n",
       "      <th>1</th>\n",
       "      <td>vs10000621</td>\n",
       "      <td>351 days</td>\n",
       "    </tr>\n",
       "    <tr>\n",
       "      <th>2</th>\n",
       "      <td>vs10000627</td>\n",
       "      <td>1 days</td>\n",
       "    </tr>\n",
       "    <tr>\n",
       "      <th>3</th>\n",
       "      <td>vs10000716</td>\n",
       "      <td>238 days</td>\n",
       "    </tr>\n",
       "    <tr>\n",
       "      <th>4</th>\n",
       "      <td>vs10000743</td>\n",
       "      <td>0 days</td>\n",
       "    </tr>\n",
       "  </tbody>\n",
       "</table>\n",
       "</div>"
      ],
      "text/plain": [
       "      user_id order_dt\n",
       "0  vs10000005 273 days\n",
       "1  vs10000621 351 days\n",
       "2  vs10000627   1 days\n",
       "3  vs10000716 238 days\n",
       "4  vs10000743   0 days"
      ]
     },
     "execution_count": 46,
     "metadata": {},
     "output_type": "execute_result"
    }
   ],
   "source": [
    "#各会员首次、最后一次消费时间间隔\n",
    "order_dt_min=df.groupby('user_id').order_dt.min()\n",
    "order_dt_max=df.groupby('user_id').order_dt.max()\n",
    "life_time=(order_dt_max-order_dt_min).reset_index()\n",
    "life_time.head()"
   ]
  },
  {
   "cell_type": "code",
   "execution_count": 47,
   "metadata": {},
   "outputs": [
    {
     "data": {
      "text/html": [
       "<div>\n",
       "<style scoped>\n",
       "    .dataframe tbody tr th:only-of-type {\n",
       "        vertical-align: middle;\n",
       "    }\n",
       "\n",
       "    .dataframe tbody tr th {\n",
       "        vertical-align: top;\n",
       "    }\n",
       "\n",
       "    .dataframe thead th {\n",
       "        text-align: right;\n",
       "    }\n",
       "</style>\n",
       "<table border=\"1\" class=\"dataframe\">\n",
       "  <thead>\n",
       "    <tr style=\"text-align: right;\">\n",
       "      <th></th>\n",
       "      <th>order_dt</th>\n",
       "    </tr>\n",
       "  </thead>\n",
       "  <tbody>\n",
       "    <tr>\n",
       "      <th>count</th>\n",
       "      <td>247</td>\n",
       "    </tr>\n",
       "    <tr>\n",
       "      <th>mean</th>\n",
       "      <td>32 days 03:59:01.700404</td>\n",
       "    </tr>\n",
       "    <tr>\n",
       "      <th>std</th>\n",
       "      <td>73 days 19:15:10.251372</td>\n",
       "    </tr>\n",
       "    <tr>\n",
       "      <th>min</th>\n",
       "      <td>0 days 00:00:00</td>\n",
       "    </tr>\n",
       "    <tr>\n",
       "      <th>25%</th>\n",
       "      <td>0 days 00:00:00</td>\n",
       "    </tr>\n",
       "    <tr>\n",
       "      <th>50%</th>\n",
       "      <td>1 days 00:00:00</td>\n",
       "    </tr>\n",
       "    <tr>\n",
       "      <th>75%</th>\n",
       "      <td>13 days 00:00:00</td>\n",
       "    </tr>\n",
       "    <tr>\n",
       "      <th>max</th>\n",
       "      <td>351 days 00:00:00</td>\n",
       "    </tr>\n",
       "  </tbody>\n",
       "</table>\n",
       "</div>"
      ],
      "text/plain": [
       "                      order_dt\n",
       "count                      247\n",
       "mean   32 days 03:59:01.700404\n",
       "std    73 days 19:15:10.251372\n",
       "min            0 days 00:00:00\n",
       "25%            0 days 00:00:00\n",
       "50%            1 days 00:00:00\n",
       "75%           13 days 00:00:00\n",
       "max          351 days 00:00:00"
      ]
     },
     "execution_count": 47,
     "metadata": {},
     "output_type": "execute_result"
    }
   ],
   "source": [
    "life_time.describe()"
   ]
  },
  {
   "cell_type": "markdown",
   "metadata": {},
   "source": [
    "分析：由描述可知，所有用户的平均生命周期是32天，中位数是1天，即存在50%的客户首次消费即最后一次消费。\n",
    "最大值351天，即本数据集的总天数，说明存在从开始到最后都消费的高质量用户。"
   ]
  },
  {
   "cell_type": "code",
   "execution_count": 48,
   "metadata": {},
   "outputs": [
    {
     "data": {
      "text/plain": [
       "Text(0, 0.5, '人数')"
      ]
     },
     "execution_count": 48,
     "metadata": {},
     "output_type": "execute_result"
    },
    {
     "data": {
      "image/png": "[encoded data removed]",
      "text/plain": [
       "<Figure size 432x288 with 1 Axes>"
      ]
     },
     "metadata": {},
     "output_type": "display_data"
    }
   ],
   "source": [
    "((order_dt_max-order_dt_min)/np.timedelta64(1,'D')).hist(bins=15)\n",
    "plt.title('用户生命周期直方图')\n",
    "plt.xlabel('天数')\n",
    "plt.ylabel('人数')"
   ]
  },
  {
   "cell_type": "markdown",
   "metadata": {},
   "source": [
    "## 消费两次以上的用户生命周期"
   ]
  },
  {
   "cell_type": "code",
   "execution_count": 49,
   "metadata": {},
   "outputs": [
    {
     "data": {
      "text/plain": [
       "Text(0, 0.5, '人数')"
      ]
     },
     "execution_count": 49,
     "metadata": {},
     "output_type": "execute_result"
    },
    {
     "data": {
      "image/png": "[encoded data removed]",
      "text/plain": [
       "<Figure size 432x288 with 1 Axes>"
      ]
     },
     "metadata": {},
     "output_type": "display_data"
    }
   ],
   "source": [
    "life_time['life_time']=life_time.order_dt/np.timedelta64(1,'D')\n",
    "life_time[life_time.life_time>0].life_time.hist(bins=15)#排除仅消费一次的客户\n",
    "plt.title('二次消费以上用户生命周期直方图')\n",
    "plt.xlabel('天数')\n",
    "plt.ylabel('人数')"
   ]
  },
  {
   "cell_type": "code",
   "execution_count": 50,
   "metadata": {},
   "outputs": [
    {
     "data": {
      "text/plain": [
       "count   155.00\n",
       "mean     51.26\n",
       "std      87.84\n",
       "min       1.00\n",
       "25%       2.00\n",
       "50%       7.00\n",
       "75%      53.50\n",
       "max     351.00\n",
       "Name: life_time, dtype: float64"
      ]
     },
     "execution_count": 50,
     "metadata": {},
     "output_type": "execute_result"
    }
   ],
   "source": [
    "life_time[life_time.life_time>0].life_time.describe()"
   ]
  },
  {
   "cell_type": "markdown",
   "metadata": {},
   "source": [
    "分析：二次消费以上用户生命周期为51天，略高于总体。从策略上看，用户首次消费后应该引导其再次消费。"
   ]
  },
  {
   "cell_type": "markdown",
   "metadata": {},
   "source": [
    "# 数据分析-用户留存率分析"
   ]
  },
  {
   "cell_type": "code",
   "execution_count": 51,
   "metadata": {},
   "outputs": [
    {
     "data": {
      "text/html": [
       "<div>\n",
       "<style scoped>\n",
       "    .dataframe tbody tr th:only-of-type {\n",
       "        vertical-align: middle;\n",
       "    }\n",
       "\n",
       "    .dataframe tbody tr th {\n",
       "        vertical-align: top;\n",
       "    }\n",
       "\n",
       "    .dataframe thead th {\n",
       "        text-align: right;\n",
       "    }\n",
       "</style>\n",
       "<table border=\"1\" class=\"dataframe\">\n",
       "  <thead>\n",
       "    <tr style=\"text-align: right;\">\n",
       "      <th></th>\n",
       "      <th>user_id</th>\n",
       "      <th>order_dt</th>\n",
       "      <th>order_products</th>\n",
       "      <th>order_amount</th>\n",
       "      <th>month</th>\n",
       "      <th>order_dt_min</th>\n",
       "      <th>date_diff</th>\n",
       "      <th>date_diff_bin</th>\n",
       "    </tr>\n",
       "  </thead>\n",
       "  <tbody>\n",
       "    <tr>\n",
       "      <th>0</th>\n",
       "      <td>vs30033073</td>\n",
       "      <td>2020-01-17</td>\n",
       "      <td>1</td>\n",
       "      <td>20</td>\n",
       "      <td>2020-01-01</td>\n",
       "      <td>2019-09-23</td>\n",
       "      <td>116.00</td>\n",
       "      <td>(90, 120]</td>\n",
       "    </tr>\n",
       "    <tr>\n",
       "      <th>1</th>\n",
       "      <td>vs30033073</td>\n",
       "      <td>2019-11-29</td>\n",
       "      <td>2</td>\n",
       "      <td>20</td>\n",
       "      <td>2019-11-01</td>\n",
       "      <td>2019-09-23</td>\n",
       "      <td>67.00</td>\n",
       "      <td>(60, 90]</td>\n",
       "    </tr>\n",
       "    <tr>\n",
       "      <th>2</th>\n",
       "      <td>vs30033073</td>\n",
       "      <td>2019-11-13</td>\n",
       "      <td>2</td>\n",
       "      <td>20</td>\n",
       "      <td>2019-11-01</td>\n",
       "      <td>2019-09-23</td>\n",
       "      <td>51.00</td>\n",
       "      <td>(30, 60]</td>\n",
       "    </tr>\n",
       "    <tr>\n",
       "      <th>3</th>\n",
       "      <td>vs30033073</td>\n",
       "      <td>2019-12-24</td>\n",
       "      <td>2</td>\n",
       "      <td>20</td>\n",
       "      <td>2019-12-01</td>\n",
       "      <td>2019-09-23</td>\n",
       "      <td>92.00</td>\n",
       "      <td>(90, 120]</td>\n",
       "    </tr>\n",
       "    <tr>\n",
       "      <th>4</th>\n",
       "      <td>vs30033073</td>\n",
       "      <td>2019-10-29</td>\n",
       "      <td>2</td>\n",
       "      <td>20</td>\n",
       "      <td>2019-10-01</td>\n",
       "      <td>2019-09-23</td>\n",
       "      <td>36.00</td>\n",
       "      <td>(30, 60]</td>\n",
       "    </tr>\n",
       "    <tr>\n",
       "      <th>5</th>\n",
       "      <td>vs30033073</td>\n",
       "      <td>2020-01-07</td>\n",
       "      <td>2</td>\n",
       "      <td>20</td>\n",
       "      <td>2020-01-01</td>\n",
       "      <td>2019-09-23</td>\n",
       "      <td>106.00</td>\n",
       "      <td>(90, 120]</td>\n",
       "    </tr>\n",
       "    <tr>\n",
       "      <th>6</th>\n",
       "      <td>vs30033073</td>\n",
       "      <td>2019-12-09</td>\n",
       "      <td>2</td>\n",
       "      <td>20</td>\n",
       "      <td>2019-12-01</td>\n",
       "      <td>2019-09-23</td>\n",
       "      <td>77.00</td>\n",
       "      <td>(60, 90]</td>\n",
       "    </tr>\n",
       "    <tr>\n",
       "      <th>7</th>\n",
       "      <td>vs30033073</td>\n",
       "      <td>2020-01-06</td>\n",
       "      <td>1</td>\n",
       "      <td>20</td>\n",
       "      <td>2020-01-01</td>\n",
       "      <td>2019-09-23</td>\n",
       "      <td>105.00</td>\n",
       "      <td>(90, 120]</td>\n",
       "    </tr>\n",
       "    <tr>\n",
       "      <th>8</th>\n",
       "      <td>vs30033073</td>\n",
       "      <td>2019-11-01</td>\n",
       "      <td>2</td>\n",
       "      <td>20</td>\n",
       "      <td>2019-11-01</td>\n",
       "      <td>2019-09-23</td>\n",
       "      <td>39.00</td>\n",
       "      <td>(30, 60]</td>\n",
       "    </tr>\n",
       "    <tr>\n",
       "      <th>9</th>\n",
       "      <td>vs30033073</td>\n",
       "      <td>2019-10-21</td>\n",
       "      <td>2</td>\n",
       "      <td>20</td>\n",
       "      <td>2019-10-01</td>\n",
       "      <td>2019-09-23</td>\n",
       "      <td>28.00</td>\n",
       "      <td>(0, 30]</td>\n",
       "    </tr>\n",
       "  </tbody>\n",
       "</table>\n",
       "</div>"
      ],
      "text/plain": [
       "      user_id    order_dt  order_products  order_amount      month  \\\n",
       "0  vs30033073  2020-01-17               1            20 2020-01-01   \n",
       "1  vs30033073  2019-11-29               2            20 2019-11-01   \n",
       "2  vs30033073  2019-11-13               2            20 2019-11-01   \n",
       "3  vs30033073  2019-12-24               2            20 2019-12-01   \n",
       "4  vs30033073  2019-10-29               2            20 2019-10-01   \n",
       "5  vs30033073  2020-01-07               2            20 2020-01-01   \n",
       "6  vs30033073  2019-12-09               2            20 2019-12-01   \n",
       "7  vs30033073  2020-01-06               1            20 2020-01-01   \n",
       "8  vs30033073  2019-11-01               2            20 2019-11-01   \n",
       "9  vs30033073  2019-10-21               2            20 2019-10-01   \n",
       "\n",
       "  order_dt_min  date_diff date_diff_bin  \n",
       "0   2019-09-23     116.00     (90, 120]  \n",
       "1   2019-09-23      67.00      (60, 90]  \n",
       "2   2019-09-23      51.00      (30, 60]  \n",
       "3   2019-09-23      92.00     (90, 120]  \n",
       "4   2019-09-23      36.00      (30, 60]  \n",
       "5   2019-09-23     106.00     (90, 120]  \n",
       "6   2019-09-23      77.00      (60, 90]  \n",
       "7   2019-09-23     105.00     (90, 120]  \n",
       "8   2019-09-23      39.00      (30, 60]  \n",
       "9   2019-09-23      28.00       (0, 30]  "
      ]
     },
     "execution_count": 51,
     "metadata": {},
     "output_type": "execute_result"
    }
   ],
   "source": [
    "#留存率指用户在第一次消费后，有多少比率进行第二次消费。和回流率的区别是留存倾向于计算第一次消费，并且有多个时间窗口。\n",
    "user_purchase_retention=pd.merge(left=df,right=order_dt_min.reset_index(),how='inner',on='user_id',suffixes=('','_min'))\n",
    "user_purchase_retention['date_diff']=(user_purchase_retention.order_dt-user_purchase_retention.order_dt_min)/np.timedelta64(1,'D')\n",
    "bin=[0,30,60,90,120,150,180,365]\n",
    "user_purchase_retention['date_diff_bin']=pd.cut(user_purchase_retention['date_diff'],bins=bin)\n",
    "user_purchase_retention.head(10)"
   ]
  },
  {
   "cell_type": "code",
   "execution_count": 52,
   "metadata": {},
   "outputs": [
    {
     "data": {
      "text/html": [
       "<div>\n",
       "<style scoped>\n",
       "    .dataframe tbody tr th:only-of-type {\n",
       "        vertical-align: middle;\n",
       "    }\n",
       "\n",
       "    .dataframe tbody tr th {\n",
       "        vertical-align: top;\n",
       "    }\n",
       "\n",
       "    .dataframe thead th {\n",
       "        text-align: right;\n",
       "    }\n",
       "</style>\n",
       "<table border=\"1\" class=\"dataframe\">\n",
       "  <thead>\n",
       "    <tr style=\"text-align: right;\">\n",
       "      <th>date_diff_bin</th>\n",
       "      <th>(0, 30]</th>\n",
       "      <th>(30, 60]</th>\n",
       "      <th>(60, 90]</th>\n",
       "      <th>(90, 120]</th>\n",
       "      <th>(120, 150]</th>\n",
       "      <th>(150, 180]</th>\n",
       "      <th>(180, 365]</th>\n",
       "    </tr>\n",
       "    <tr>\n",
       "      <th>user_id</th>\n",
       "      <th></th>\n",
       "      <th></th>\n",
       "      <th></th>\n",
       "      <th></th>\n",
       "      <th></th>\n",
       "      <th></th>\n",
       "      <th></th>\n",
       "    </tr>\n",
       "  </thead>\n",
       "  <tbody>\n",
       "    <tr>\n",
       "      <th>vs10000005</th>\n",
       "      <td>nan</td>\n",
       "      <td>59.00</td>\n",
       "      <td>nan</td>\n",
       "      <td>nan</td>\n",
       "      <td>nan</td>\n",
       "      <td>nan</td>\n",
       "      <td>80.00</td>\n",
       "    </tr>\n",
       "    <tr>\n",
       "      <th>vs10000621</th>\n",
       "      <td>240.00</td>\n",
       "      <td>300.00</td>\n",
       "      <td>420.00</td>\n",
       "      <td>400.00</td>\n",
       "      <td>200.00</td>\n",
       "      <td>40.00</td>\n",
       "      <td>1700.00</td>\n",
       "    </tr>\n",
       "    <tr>\n",
       "      <th>vs10000627</th>\n",
       "      <td>0.00</td>\n",
       "      <td>nan</td>\n",
       "      <td>nan</td>\n",
       "      <td>nan</td>\n",
       "      <td>nan</td>\n",
       "      <td>nan</td>\n",
       "      <td>nan</td>\n",
       "    </tr>\n",
       "    <tr>\n",
       "      <th>vs10000716</th>\n",
       "      <td>280.00</td>\n",
       "      <td>795.00</td>\n",
       "      <td>240.00</td>\n",
       "      <td>220.00</td>\n",
       "      <td>440.00</td>\n",
       "      <td>280.00</td>\n",
       "      <td>341.00</td>\n",
       "    </tr>\n",
       "    <tr>\n",
       "      <th>vs10000743</th>\n",
       "      <td>nan</td>\n",
       "      <td>nan</td>\n",
       "      <td>nan</td>\n",
       "      <td>nan</td>\n",
       "      <td>nan</td>\n",
       "      <td>nan</td>\n",
       "      <td>nan</td>\n",
       "    </tr>\n",
       "  </tbody>\n",
       "</table>\n",
       "</div>"
      ],
      "text/plain": [
       "date_diff_bin  (0, 30]  (30, 60]  (60, 90]  (90, 120]  (120, 150]  (150, 180]  \\\n",
       "user_id                                                                         \n",
       "vs10000005         nan     59.00       nan        nan         nan         nan   \n",
       "vs10000621      240.00    300.00    420.00     400.00      200.00       40.00   \n",
       "vs10000627        0.00       nan       nan        nan         nan         nan   \n",
       "vs10000716      280.00    795.00    240.00     220.00      440.00      280.00   \n",
       "vs10000743         nan       nan       nan        nan         nan         nan   \n",
       "\n",
       "date_diff_bin  (180, 365]  \n",
       "user_id                    \n",
       "vs10000005          80.00  \n",
       "vs10000621        1700.00  \n",
       "vs10000627            nan  \n",
       "vs10000716         341.00  \n",
       "vs10000743            nan  "
      ]
     },
     "execution_count": 52,
     "metadata": {},
     "output_type": "execute_result"
    }
   ],
   "source": [
    "pivoted_retention=user_purchase_retention.pivot_table(index='user_id',columns='date_diff_bin',values='order_amount',aggfunc=sum,dropna=False)\n",
    "pivoted_retention.head()"
   ]
  },
  {
   "cell_type": "code",
   "execution_count": 53,
   "metadata": {},
   "outputs": [
    {
     "data": {
      "text/plain": [
       "date_diff_bin\n",
       "(0, 30]       52.70\n",
       "(30, 60]     148.62\n",
       "(60, 90]     171.52\n",
       "(90, 120]    307.59\n",
       "(120, 150]   112.90\n",
       "(150, 180]   111.60\n",
       "(180, 365]   700.36\n",
       "dtype: float64"
      ]
     },
     "execution_count": 53,
     "metadata": {},
     "output_type": "execute_result"
    }
   ],
   "source": [
    "pivoted_retention.mean()"
   ]
  },
  {
   "cell_type": "code",
   "execution_count": 54,
   "metadata": {},
   "outputs": [
    {
     "name": "stderr",
     "output_type": "stream",
     "text": [
      "C:\\Users\\wsxia\\anaconda3\\lib\\site-packages\\ipykernel_launcher.py:1: UserWarning: Pandas doesn't allow columns to be created via a new attribute name - see https://pandas.pydata.org/pandas-docs/stable/indexing.html#attribute-access\n",
      "  \"\"\"Entry point for launching an IPython kernel.\n"
     ]
    },
    {
     "data": {
      "text/plain": [
       "Text(0, 0.5, '百分数')"
      ]
     },
     "execution_count": 54,
     "metadata": {},
     "output_type": "execute_result"
    },
    {
     "data": {
      "image/png": "[encoded data removed]",
      "text/plain": [
       "<Figure size 432x288 with 1 Axes>"
      ]
     },
     "metadata": {},
     "output_type": "display_data"
    }
   ],
   "source": [
    "pivoted_retention.transf=pivoted_retention.fillna(0).applymap(lambda x:1 if x>0 else 0)\n",
    "(pivoted_retention.transf.sum()/pivoted_retention.transf.count()).plot.bar()\n",
    "plt.title('各时间段的用户留存率')\n",
    "plt.xlabel('时间跨度(天)')\n",
    "plt.ylabel('百分数')"
   ]
  },
  {
   "cell_type": "markdown",
   "metadata": {},
   "source": [
    "分析：第一个月的留存率约超过17.5%,第二个月下降至15%,之后几个月稳定在6%左右，说明后面几个月流失率较大 。"
   ]
  },
  {
   "cell_type": "markdown",
   "metadata": {},
   "source": [
    "# 数据分析-决策分析"
   ]
  },
  {
   "cell_type": "code",
   "execution_count": 55,
   "metadata": {},
   "outputs": [
    {
     "data": {
      "text/plain": [
       "user_id         \n",
       "vs10000005  31       0.00\n",
       "            34      42.00\n",
       "            158      1.00\n",
       "            160      0.00\n",
       "            161    230.00\n",
       "            1715      nan\n",
       "vs10000621  2        0.00\n",
       "            3       11.00\n",
       "            22       1.00\n",
       "            26       1.00\n",
       "Name: date_diff, dtype: float64"
      ]
     },
     "execution_count": 55,
     "metadata": {},
     "output_type": "execute_result"
    }
   ],
   "source": [
    "#平均购买周期：用户两次消费行为的时间间隔。\n",
    "def diff(group):\n",
    "    d=group.date_diff.shift(-1)-group.date_diff\n",
    "    return d\n",
    "last_diff=user_purchase_retention.sort_values(\"order_dt\").reset_index().groupby('user_id').apply(diff)\n",
    "last_diff.head(10)"
   ]
  },
  {
   "cell_type": "code",
   "execution_count": 56,
   "metadata": {},
   "outputs": [
    {
     "data": {
      "text/plain": [
       "count   1766.00\n",
       "mean       4.50\n",
       "std       14.03\n",
       "min        0.00\n",
       "25%        1.00\n",
       "50%        1.00\n",
       "75%        4.00\n",
       "max      230.00\n",
       "Name: date_diff, dtype: float64"
      ]
     },
     "execution_count": 56,
     "metadata": {},
     "output_type": "execute_result"
    }
   ],
   "source": [
    "last_diff.describe()"
   ]
  },
  {
   "cell_type": "markdown",
   "metadata": {},
   "source": [
    "说明：可知用户的平均消费间隔时间是4.5天。想要召回用户，在4.5天左右的消费间隔是比较好的。"
   ]
  },
  {
   "cell_type": "code",
   "execution_count": 57,
   "metadata": {},
   "outputs": [
    {
     "data": {
      "text/plain": [
       "Text(0, 0.5, '百分数')"
      ]
     },
     "execution_count": 57,
     "metadata": {},
     "output_type": "execute_result"
    },
    {
     "data": {
      "image/png": "[encoded data removed]",
      "text/plain": [
       "<Figure size 432x288 with 1 Axes>"
      ]
     },
     "metadata": {},
     "output_type": "display_data"
    }
   ],
   "source": [
    "last_diff.hist(bins=15)\n",
    "plt.title('用户平均购买周期直方图')\n",
    "plt.xlabel('时间跨度(天)')\n",
    "plt.ylabel('百分数')"
   ]
  },
  {
   "cell_type": "markdown",
   "metadata": {},
   "source": [
    "说明：典型的长尾分布，大部分用户的消费间隔比较短。"
   ]
  },
  {
   "cell_type": "code",
   "execution_count": null,
   "metadata": {},
   "outputs": [],
   "source": []
  },
  {
   "cell_type": "code",
   "execution_count": null,
   "metadata": {},
   "outputs": [],
   "source": []
  }
 ],
 "metadata": {
  "kernelspec": {
   "display_name": "Python 3",
   "language": "python",
   "name": "python3"
  },
  "language_info": {
   "codemirror_mode": {
    "name": "ipython",
    "version": 3
   },
   "file_extension": ".py",
   "mimetype": "text/x-python",
   "name": "python",
   "nbconvert_exporter": "python",
   "pygments_lexer": "ipython3",
   "version": "3.7.6"
  }
 },
 "nbformat": 4,
 "nbformat_minor": 2
}
